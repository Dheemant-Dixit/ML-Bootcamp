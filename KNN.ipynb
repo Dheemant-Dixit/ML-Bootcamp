{
  "cells": [
    {
      "cell_type": "markdown",
      "metadata": {
        "id": "view-in-github",
        "colab_type": "text"
      },
      "source": [
        "<a href=\"https://colab.research.google.com/github/Dheemant-Dixit/WoC-ML-Bootcamp/blob/main/KNN.ipynb\" target=\"_parent\"><img src=\"https://colab.research.google.com/assets/colab-badge.svg\" alt=\"Open In Colab\"/></a>"
      ]
    },
    {
      "cell_type": "markdown",
      "metadata": {
        "id": "KQmPWHtv5OaS"
      },
      "source": [
        "#**K-Nearest Neighbour**\n",
        "*From scratch using Python*"
      ]
    },
    {
      "cell_type": "markdown",
      "metadata": {
        "id": "A15DChzVlvPc"
      },
      "source": [
        "KNN algorithm is one of the classic supervised machine learning algorithms that is capable of both binary and multi-class classification.\n",
        "\n",
        "Non-parametric by nature, KNN can also be used as a regression algorithm."
      ]
    },
    {
      "cell_type": "markdown",
      "metadata": {
        "id": "YrHCP5Rol1oN"
      },
      "source": [
        "### Importing necessary libraries:\n",
        "Numpy, pandas and matplotlib."
      ]
    },
    {
      "cell_type": "code",
      "execution_count": null,
      "metadata": {
        "colab": {
          "background_save": true
        },
        "id": "-mx0ir-f20KH"
      },
      "outputs": [],
      "source": [
        "import numpy as np\n",
        "import pandas as pd\n",
        "import matplotlib.pyplot as plt\n",
        "from pandas.plotting import scatter_matrix"
      ]
    },
    {
      "cell_type": "markdown",
      "metadata": {
        "id": "wwH5_P3NmK9F"
      },
      "source": [
        "### Using Google Drive Mount to access dataset files."
      ]
    },
    {
      "cell_type": "code",
      "execution_count": null,
      "metadata": {
        "colab": {
          "base_uri": "https://localhost:8080/"
        },
        "id": "kwzcUabv28WE",
        "outputId": "7d455d18-049e-429c-a30c-aea1d0446196"
      },
      "outputs": [
        {
          "name": "stdout",
          "output_type": "stream",
          "text": [
            "Drive already mounted at /content/drive; to attempt to forcibly remount, call drive.mount(\"/content/drive\", force_remount=True).\n"
          ]
        }
      ],
      "source": [
        "from google.colab import drive\n",
        "drive.mount('/content/drive')"
      ]
    },
    {
      "cell_type": "markdown",
      "metadata": {
        "id": "kwgU_68ZmXFt"
      },
      "source": [
        "## Loading Data Frame\n",
        "\n",
        "The famous library 'pandas' is used to load the data frame from the csv files provided."
      ]
    },
    {
      "cell_type": "markdown",
      "metadata": {
        "id": "x0hQZrODmbIn"
      },
      "source": [
        "Data Frame for training dataset."
      ]
    },
    {
      "cell_type": "code",
      "execution_count": null,
      "metadata": {
        "colab": {
          "base_uri": "https://localhost:8080/",
          "height": 235
        },
        "id": "imhPkEbR3Bap",
        "outputId": "1b89ea7b-051e-46a9-e691-3a082ddced6d"
      },
      "outputs": [
        {
          "data": {
            "text/html": [
              "\n",
              "  <div id=\"df-e7ebe75f-f865-46dc-83c8-30d27516072f\">\n",
              "    <div class=\"colab-df-container\">\n",
              "      <div>\n",
              "<style scoped>\n",
              "    .dataframe tbody tr th:only-of-type {\n",
              "        vertical-align: middle;\n",
              "    }\n",
              "\n",
              "    .dataframe tbody tr th {\n",
              "        vertical-align: top;\n",
              "    }\n",
              "\n",
              "    .dataframe thead th {\n",
              "        text-align: right;\n",
              "    }\n",
              "</style>\n",
              "<table border=\"1\" class=\"dataframe\">\n",
              "  <thead>\n",
              "    <tr style=\"text-align: right;\">\n",
              "      <th></th>\n",
              "      <th>0</th>\n",
              "      <th>1</th>\n",
              "      <th>...</th>\n",
              "      <th>783</th>\n",
              "      <th>784</th>\n",
              "    </tr>\n",
              "  </thead>\n",
              "  <tbody>\n",
              "    <tr>\n",
              "      <th>0</th>\n",
              "      <td>23</td>\n",
              "      <td>0</td>\n",
              "      <td>...</td>\n",
              "      <td>0</td>\n",
              "      <td>0</td>\n",
              "    </tr>\n",
              "    <tr>\n",
              "      <th>1</th>\n",
              "      <td>7</td>\n",
              "      <td>0</td>\n",
              "      <td>...</td>\n",
              "      <td>0</td>\n",
              "      <td>0</td>\n",
              "    </tr>\n",
              "    <tr>\n",
              "      <th>2</th>\n",
              "      <td>16</td>\n",
              "      <td>0</td>\n",
              "      <td>...</td>\n",
              "      <td>0</td>\n",
              "      <td>0</td>\n",
              "    </tr>\n",
              "    <tr>\n",
              "      <th>3</th>\n",
              "      <td>15</td>\n",
              "      <td>0</td>\n",
              "      <td>...</td>\n",
              "      <td>0</td>\n",
              "      <td>0</td>\n",
              "    </tr>\n",
              "    <tr>\n",
              "      <th>4</th>\n",
              "      <td>23</td>\n",
              "      <td>0</td>\n",
              "      <td>...</td>\n",
              "      <td>0</td>\n",
              "      <td>0</td>\n",
              "    </tr>\n",
              "  </tbody>\n",
              "</table>\n",
              "<p>5 rows × 785 columns</p>\n",
              "</div>\n",
              "      <button class=\"colab-df-convert\" onclick=\"convertToInteractive('df-e7ebe75f-f865-46dc-83c8-30d27516072f')\"\n",
              "              title=\"Convert this dataframe to an interactive table.\"\n",
              "              style=\"display:none;\">\n",
              "        \n",
              "  <svg xmlns=\"http://www.w3.org/2000/svg\" height=\"24px\"viewBox=\"0 0 24 24\"\n",
              "       width=\"24px\">\n",
              "    <path d=\"M0 0h24v24H0V0z\" fill=\"none\"/>\n",
              "    <path d=\"M18.56 5.44l.94 2.06.94-2.06 2.06-.94-2.06-.94-.94-2.06-.94 2.06-2.06.94zm-11 1L8.5 8.5l.94-2.06 2.06-.94-2.06-.94L8.5 2.5l-.94 2.06-2.06.94zm10 10l.94 2.06.94-2.06 2.06-.94-2.06-.94-.94-2.06-.94 2.06-2.06.94z\"/><path d=\"M17.41 7.96l-1.37-1.37c-.4-.4-.92-.59-1.43-.59-.52 0-1.04.2-1.43.59L10.3 9.45l-7.72 7.72c-.78.78-.78 2.05 0 2.83L4 21.41c.39.39.9.59 1.41.59.51 0 1.02-.2 1.41-.59l7.78-7.78 2.81-2.81c.8-.78.8-2.07 0-2.86zM5.41 20L4 18.59l7.72-7.72 1.47 1.35L5.41 20z\"/>\n",
              "  </svg>\n",
              "      </button>\n",
              "      \n",
              "  <style>\n",
              "    .colab-df-container {\n",
              "      display:flex;\n",
              "      flex-wrap:wrap;\n",
              "      gap: 12px;\n",
              "    }\n",
              "\n",
              "    .colab-df-convert {\n",
              "      background-color: #E8F0FE;\n",
              "      border: none;\n",
              "      border-radius: 50%;\n",
              "      cursor: pointer;\n",
              "      display: none;\n",
              "      fill: #1967D2;\n",
              "      height: 32px;\n",
              "      padding: 0 0 0 0;\n",
              "      width: 32px;\n",
              "    }\n",
              "\n",
              "    .colab-df-convert:hover {\n",
              "      background-color: #E2EBFA;\n",
              "      box-shadow: 0px 1px 2px rgba(60, 64, 67, 0.3), 0px 1px 3px 1px rgba(60, 64, 67, 0.15);\n",
              "      fill: #174EA6;\n",
              "    }\n",
              "\n",
              "    [theme=dark] .colab-df-convert {\n",
              "      background-color: #3B4455;\n",
              "      fill: #D2E3FC;\n",
              "    }\n",
              "\n",
              "    [theme=dark] .colab-df-convert:hover {\n",
              "      background-color: #434B5C;\n",
              "      box-shadow: 0px 1px 3px 1px rgba(0, 0, 0, 0.15);\n",
              "      filter: drop-shadow(0px 1px 2px rgba(0, 0, 0, 0.3));\n",
              "      fill: #FFFFFF;\n",
              "    }\n",
              "  </style>\n",
              "\n",
              "      <script>\n",
              "        const buttonEl =\n",
              "          document.querySelector('#df-e7ebe75f-f865-46dc-83c8-30d27516072f button.colab-df-convert');\n",
              "        buttonEl.style.display =\n",
              "          google.colab.kernel.accessAllowed ? 'block' : 'none';\n",
              "\n",
              "        async function convertToInteractive(key) {\n",
              "          const element = document.querySelector('#df-e7ebe75f-f865-46dc-83c8-30d27516072f');\n",
              "          const dataTable =\n",
              "            await google.colab.kernel.invokeFunction('convertToInteractive',\n",
              "                                                     [key], {});\n",
              "          if (!dataTable) return;\n",
              "\n",
              "          const docLinkHtml = 'Like what you see? Visit the ' +\n",
              "            '<a target=\"_blank\" href=https://colab.research.google.com/notebooks/data_table.ipynb>data table notebook</a>'\n",
              "            + ' to learn more about interactive tables.';\n",
              "          element.innerHTML = '';\n",
              "          dataTable['output_type'] = 'display_data';\n",
              "          await google.colab.output.renderOutput(dataTable, element);\n",
              "          const docLink = document.createElement('div');\n",
              "          docLink.innerHTML = docLinkHtml;\n",
              "          element.appendChild(docLink);\n",
              "        }\n",
              "      </script>\n",
              "    </div>\n",
              "  </div>\n",
              "  "
            ],
            "text/plain": [
              "   0    1    ...  783  784\n",
              "0   23    0  ...    0    0\n",
              "1    7    0  ...    0    0\n",
              "2   16    0  ...    0    0\n",
              "3   15    0  ...    0    0\n",
              "4   23    0  ...    0    0\n",
              "\n",
              "[5 rows x 785 columns]"
            ]
          },
          "execution_count": 3,
          "metadata": {},
          "output_type": "execute_result"
        }
      ],
      "source": [
        "pd.options.display.max_columns = 5\n",
        "df_train = pd.read_csv('/content/drive/MyDrive/WoC-ML Bootcamp/Logistic Regression/emnist-letters-train.csv', header = None)\n",
        "df_train.head()"
      ]
    },
    {
      "cell_type": "markdown",
      "metadata": {
        "id": "KZI1ja7FmfTM"
      },
      "source": [
        "Data Frame for testing dataset."
      ]
    },
    {
      "cell_type": "code",
      "execution_count": null,
      "metadata": {
        "colab": {
          "base_uri": "https://localhost:8080/",
          "height": 235
        },
        "id": "xWtUYQz53VqZ",
        "outputId": "4008aba2-c1da-4d8e-a50e-590cd864d4cf"
      },
      "outputs": [
        {
          "data": {
            "text/html": [
              "\n",
              "  <div id=\"df-a86e2b05-de7e-4b14-a914-60b29c4d8961\">\n",
              "    <div class=\"colab-df-container\">\n",
              "      <div>\n",
              "<style scoped>\n",
              "    .dataframe tbody tr th:only-of-type {\n",
              "        vertical-align: middle;\n",
              "    }\n",
              "\n",
              "    .dataframe tbody tr th {\n",
              "        vertical-align: top;\n",
              "    }\n",
              "\n",
              "    .dataframe thead th {\n",
              "        text-align: right;\n",
              "    }\n",
              "</style>\n",
              "<table border=\"1\" class=\"dataframe\">\n",
              "  <thead>\n",
              "    <tr style=\"text-align: right;\">\n",
              "      <th></th>\n",
              "      <th>0</th>\n",
              "      <th>1</th>\n",
              "      <th>...</th>\n",
              "      <th>783</th>\n",
              "      <th>784</th>\n",
              "    </tr>\n",
              "  </thead>\n",
              "  <tbody>\n",
              "    <tr>\n",
              "      <th>0</th>\n",
              "      <td>1</td>\n",
              "      <td>0</td>\n",
              "      <td>...</td>\n",
              "      <td>0</td>\n",
              "      <td>0</td>\n",
              "    </tr>\n",
              "    <tr>\n",
              "      <th>1</th>\n",
              "      <td>1</td>\n",
              "      <td>0</td>\n",
              "      <td>...</td>\n",
              "      <td>0</td>\n",
              "      <td>0</td>\n",
              "    </tr>\n",
              "    <tr>\n",
              "      <th>2</th>\n",
              "      <td>1</td>\n",
              "      <td>0</td>\n",
              "      <td>...</td>\n",
              "      <td>0</td>\n",
              "      <td>0</td>\n",
              "    </tr>\n",
              "    <tr>\n",
              "      <th>3</th>\n",
              "      <td>1</td>\n",
              "      <td>0</td>\n",
              "      <td>...</td>\n",
              "      <td>0</td>\n",
              "      <td>0</td>\n",
              "    </tr>\n",
              "    <tr>\n",
              "      <th>4</th>\n",
              "      <td>1</td>\n",
              "      <td>0</td>\n",
              "      <td>...</td>\n",
              "      <td>0</td>\n",
              "      <td>0</td>\n",
              "    </tr>\n",
              "  </tbody>\n",
              "</table>\n",
              "<p>5 rows × 785 columns</p>\n",
              "</div>\n",
              "      <button class=\"colab-df-convert\" onclick=\"convertToInteractive('df-a86e2b05-de7e-4b14-a914-60b29c4d8961')\"\n",
              "              title=\"Convert this dataframe to an interactive table.\"\n",
              "              style=\"display:none;\">\n",
              "        \n",
              "  <svg xmlns=\"http://www.w3.org/2000/svg\" height=\"24px\"viewBox=\"0 0 24 24\"\n",
              "       width=\"24px\">\n",
              "    <path d=\"M0 0h24v24H0V0z\" fill=\"none\"/>\n",
              "    <path d=\"M18.56 5.44l.94 2.06.94-2.06 2.06-.94-2.06-.94-.94-2.06-.94 2.06-2.06.94zm-11 1L8.5 8.5l.94-2.06 2.06-.94-2.06-.94L8.5 2.5l-.94 2.06-2.06.94zm10 10l.94 2.06.94-2.06 2.06-.94-2.06-.94-.94-2.06-.94 2.06-2.06.94z\"/><path d=\"M17.41 7.96l-1.37-1.37c-.4-.4-.92-.59-1.43-.59-.52 0-1.04.2-1.43.59L10.3 9.45l-7.72 7.72c-.78.78-.78 2.05 0 2.83L4 21.41c.39.39.9.59 1.41.59.51 0 1.02-.2 1.41-.59l7.78-7.78 2.81-2.81c.8-.78.8-2.07 0-2.86zM5.41 20L4 18.59l7.72-7.72 1.47 1.35L5.41 20z\"/>\n",
              "  </svg>\n",
              "      </button>\n",
              "      \n",
              "  <style>\n",
              "    .colab-df-container {\n",
              "      display:flex;\n",
              "      flex-wrap:wrap;\n",
              "      gap: 12px;\n",
              "    }\n",
              "\n",
              "    .colab-df-convert {\n",
              "      background-color: #E8F0FE;\n",
              "      border: none;\n",
              "      border-radius: 50%;\n",
              "      cursor: pointer;\n",
              "      display: none;\n",
              "      fill: #1967D2;\n",
              "      height: 32px;\n",
              "      padding: 0 0 0 0;\n",
              "      width: 32px;\n",
              "    }\n",
              "\n",
              "    .colab-df-convert:hover {\n",
              "      background-color: #E2EBFA;\n",
              "      box-shadow: 0px 1px 2px rgba(60, 64, 67, 0.3), 0px 1px 3px 1px rgba(60, 64, 67, 0.15);\n",
              "      fill: #174EA6;\n",
              "    }\n",
              "\n",
              "    [theme=dark] .colab-df-convert {\n",
              "      background-color: #3B4455;\n",
              "      fill: #D2E3FC;\n",
              "    }\n",
              "\n",
              "    [theme=dark] .colab-df-convert:hover {\n",
              "      background-color: #434B5C;\n",
              "      box-shadow: 0px 1px 3px 1px rgba(0, 0, 0, 0.15);\n",
              "      filter: drop-shadow(0px 1px 2px rgba(0, 0, 0, 0.3));\n",
              "      fill: #FFFFFF;\n",
              "    }\n",
              "  </style>\n",
              "\n",
              "      <script>\n",
              "        const buttonEl =\n",
              "          document.querySelector('#df-a86e2b05-de7e-4b14-a914-60b29c4d8961 button.colab-df-convert');\n",
              "        buttonEl.style.display =\n",
              "          google.colab.kernel.accessAllowed ? 'block' : 'none';\n",
              "\n",
              "        async function convertToInteractive(key) {\n",
              "          const element = document.querySelector('#df-a86e2b05-de7e-4b14-a914-60b29c4d8961');\n",
              "          const dataTable =\n",
              "            await google.colab.kernel.invokeFunction('convertToInteractive',\n",
              "                                                     [key], {});\n",
              "          if (!dataTable) return;\n",
              "\n",
              "          const docLinkHtml = 'Like what you see? Visit the ' +\n",
              "            '<a target=\"_blank\" href=https://colab.research.google.com/notebooks/data_table.ipynb>data table notebook</a>'\n",
              "            + ' to learn more about interactive tables.';\n",
              "          element.innerHTML = '';\n",
              "          dataTable['output_type'] = 'display_data';\n",
              "          await google.colab.output.renderOutput(dataTable, element);\n",
              "          const docLink = document.createElement('div');\n",
              "          docLink.innerHTML = docLinkHtml;\n",
              "          element.appendChild(docLink);\n",
              "        }\n",
              "      </script>\n",
              "    </div>\n",
              "  </div>\n",
              "  "
            ],
            "text/plain": [
              "   0    1    ...  783  784\n",
              "0    1    0  ...    0    0\n",
              "1    1    0  ...    0    0\n",
              "2    1    0  ...    0    0\n",
              "3    1    0  ...    0    0\n",
              "4    1    0  ...    0    0\n",
              "\n",
              "[5 rows x 785 columns]"
            ]
          },
          "execution_count": 4,
          "metadata": {},
          "output_type": "execute_result"
        }
      ],
      "source": [
        "df_test = pd.read_csv('/content/drive/MyDrive/WoC-ML Bootcamp/Logistic Regression/emnist-letters-test.csv', header = None)\n",
        "df_test.head()"
      ]
    },
    {
      "cell_type": "markdown",
      "metadata": {
        "id": "6TXOXRuVmvPd"
      },
      "source": [
        "An array of alphabets with 'A' at index 0 and 'Z' at index 25 to better understand which alphabet is being shown and predicted."
      ]
    },
    {
      "cell_type": "code",
      "execution_count": null,
      "metadata": {
        "id": "NkACG7Ds3ZvR"
      },
      "outputs": [],
      "source": [
        "alphabets=np.array(['A','B','C','D','E','F','G','H','I','J','K','L','M','N','O','P','Q','R','S','T','U','V','W','X','Y','Z'])"
      ]
    },
    {
      "cell_type": "markdown",
      "metadata": {
        "id": "3u-mIMWsmxqs"
      },
      "source": [
        "## Visualising the data\n",
        "We'll map the pixel brightness with the help of matplotlib and create the image of the alphabets on a graph."
      ]
    },
    {
      "cell_type": "code",
      "execution_count": null,
      "metadata": {
        "colab": {
          "base_uri": "https://localhost:8080/",
          "height": 269
        },
        "id": "lmYoEq9e3fD9",
        "outputId": "0cdf2e44-09a4-49e4-cc08-baf547aa90b9"
      },
      "outputs": [
        {
          "data": {
            "image/png": "[encoded data removed]",
            "text/plain": [
              "<Figure size 432x288 with 1 Axes>"
            ]
          },
          "metadata": {},
          "output_type": "display_data"
        }
      ],
      "source": [
        "n=df_train.shape[1]\n",
        "pixels=(df_train.iloc[1:2,1:n]).to_numpy()\n",
        "pixels = pixels.T\n",
        "plt.imshow(pixels, cmap='gray')\n",
        "plt.show()"
      ]
    },
    {
      "cell_type": "markdown",
      "metadata": {
        "id": "XFYb4BAqmpLY"
      },
      "source": [
        "## Converting the Data Frame to NumPy Arrays\n",
        "\n",
        "Using the function `.to_numpy()` to conver the Data Frame to numpy array and then slicing the array to separate features from the label.\n",
        "\n",
        "`X_train` --> Array with all features of training dataset.\n",
        "\n",
        "`Y_train` --> Array with all labels of training dataset.\n",
        "\n",
        "`X_test` --> Array with all features of testing dataset.\n",
        "\n",
        "`Y_test` --> Array with all labels of testing dataset."
      ]
    },
    {
      "cell_type": "code",
      "execution_count": null,
      "metadata": {
        "id": "T8NpMIyK4CU3"
      },
      "outputs": [],
      "source": [
        "X_train = df_train.to_numpy()\n",
        "Y_train = X_train[:, 0]\n",
        "Y_train = Y_train.reshape(Y_train.shape[0],1)\n",
        "X_train = X_train[:, 1:X_train.shape[1]]"
      ]
    },
    {
      "cell_type": "code",
      "execution_count": null,
      "metadata": {
        "id": "Fdf6MGUw4E2G"
      },
      "outputs": [],
      "source": [
        "X_test = df_test.to_numpy()\n",
        "Y_test = X_test[:, 0]\n",
        "Y_test = Y_test.reshape(Y_test.shape[0],1)\n",
        "X_test = X_test[:, 1:X_test.shape[1]]"
      ]
    },
    {
      "cell_type": "markdown",
      "metadata": {
        "id": "DIi_lqPPnhkM"
      },
      "source": [
        "Defining a function `plot` which will be used to map the brightness of the pixels onto a graph thus showing the alphabet."
      ]
    },
    {
      "cell_type": "code",
      "execution_count": null,
      "metadata": {
        "id": "uNleTPvh4UsI"
      },
      "outputs": [],
      "source": [
        "def plot(X):\n",
        "    pixels = X.reshape((28, 28))\n",
        "    pixels = pixels.T\n",
        "    plt.imshow(pixels, cmap='gray')\n",
        "    plt.show()"
      ]
    },
    {
      "cell_type": "code",
      "execution_count": null,
      "metadata": {
        "colab": {
          "base_uri": "https://localhost:8080/",
          "height": 282
        },
        "id": "6M_IS8aS4vzP",
        "outputId": "5e11d868-7ead-4762-8096-7cd1be3ca803"
      },
      "outputs": [
        {
          "data": {
            "image/png": "[encoded data removed]",
            "text/plain": [
              "<Figure size 432x288 with 1 Axes>"
            ]
          },
          "metadata": {},
          "output_type": "display_data"
        },
        {
          "name": "stdout",
          "output_type": "stream",
          "text": [
            "This is G\n"
          ]
        }
      ],
      "source": [
        "n=X_train.shape[1]\n",
        "a = 1\n",
        "pixels= X_train[a:a+1, :]\n",
        "plot(pixels)\n",
        "print('This is', alphabets[Y_train[a]-1][0])"
      ]
    },
    {
      "cell_type": "markdown",
      "metadata": {
        "id": "3xJYjAgwoAjx"
      },
      "source": [
        "## Normalising the Data:\n",
        "The maximum pixel brightness is 255 and the minimum us 0. So we'll divide the whole array by 255 to get all the entries between 0 and 1."
      ]
    },
    {
      "cell_type": "code",
      "execution_count": null,
      "metadata": {
        "id": "_8St4CT47UFM"
      },
      "outputs": [],
      "source": [
        "def normalise(X):\n",
        "    result = X/255\n",
        "    return result"
      ]
    },
    {
      "cell_type": "markdown",
      "metadata": {
        "id": "UDwLVycIPiAj"
      },
      "source": [
        "## Distance Function:\n",
        "To compute the distance between the test example and the training dataset, euclidean distance concept will be used."
      ]
    },
    {
      "cell_type": "markdown",
      "metadata": {
        "id": "h1_9xk5LRPlV"
      },
      "source": [
        "![image.png](data:image/png;base64,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)"
      ]
    },
    {
      "cell_type": "code",
      "execution_count": null,
      "metadata": {
        "id": "S0JA-xBsrpAy"
      },
      "outputs": [],
      "source": [
        "def euclidean_distance(train_X, test_X):\n",
        "    a = np.square(train_X - test_X)\n",
        "    a = np.sum(a, axis=1)\n",
        "    a = np.sqrt(a)\n",
        "    return a"
      ]
    },
    {
      "cell_type": "markdown",
      "metadata": {
        "id": "PLjhUBlIhB5P"
      },
      "source": [
        "The model will compare the nearest 'k' neighbours and choose the class to which most of the neighbours belong.\n",
        "\n",
        "The outcome will depend on the ordering of the classes in the case when the frequency of two classes is same."
      ]
    },
    {
      "cell_type": "code",
      "execution_count": null,
      "metadata": {
        "colab": {
          "background_save": true
        },
        "id": "d6fpT5CNFiIa"
      },
      "outputs": [],
      "source": [
        "k = 5\n",
        "prediction = np.empty((X_test.shape[0], 1))\n",
        "for i in range(X_test.shape[0]):\n",
        "    l = X_test[i, :].reshape((1, -1))\n",
        "    distance = euclidean_distance(normalise(X_train), normalise(l))\n",
        "    neighbours = distance.argsort()\n",
        "    knn = Y_train[neighbours[:k]]\n",
        "    frequency = np.unique(knn, return_counts=True)\n",
        "    target_class = frequency[0][frequency[1].argmax()]\n",
        "    print(i)\n",
        "    prediction[i][0] = target_class"
      ]
    },
    {
      "cell_type": "code",
      "execution_count": null,
      "metadata": {
        "colab": {
          "background_save": true
        },
        "id": "d9017tkW2JLH",
        "outputId": "e44238fa-b5d4-484c-f76c-56ee78eb81af"
      },
      "outputs": [
        {
          "name": "stdout",
          "output_type": "stream",
          "text": [
            "[[ 1.]\n",
            " [ 1.]\n",
            " [ 1.]\n",
            " ...\n",
            " [19.]\n",
            " [19.]\n",
            " [19.]]\n"
          ]
        }
      ],
      "source": [
        "print(prediction)"
      ]
    },
    {
      "cell_type": "markdown",
      "metadata": {
        "id": "QqkT0AgVsUnu"
      },
      "source": [
        "## Accuracy of the Model:"
      ]
    },
    {
      "cell_type": "code",
      "execution_count": null,
      "metadata": {
        "colab": {
          "background_save": true
        },
        "id": "iwHxojdV2OTk",
        "outputId": "724b2b3d-3ba6-4cc1-e309-b88d6ae86394"
      },
      "outputs": [
        {
          "name": "stdout",
          "output_type": "stream",
          "text": [
            "Number of test cases predicted correctly: 12474 out of 14800\n",
            "The testing accuracy of the model is 84.28378378378379 %\n"
          ]
        }
      ],
      "source": [
        "score = 0\n",
        "for i in range(X_test.shape[0]):\n",
        "    if prediction[i][0]==Y_test[i][0]:\n",
        "        score+=1\n",
        "    \n",
        "print('Number of test cases predicted correctly:', score, 'out of', X_test.shape[0])\n",
        "print('The testing accuracy of the model is',(score/X_test.shape[0])*100,'%')"
      ]
    },
    {
      "cell_type": "markdown",
      "metadata": {
        "id": "83DXTLY3sYrr"
      },
      "source": [
        "## Comparison with sklearn's KNN Model:\n",
        "\n",
        "The comparison will be done on the basis of accuracy."
      ]
    },
    {
      "cell_type": "code",
      "execution_count": null,
      "metadata": {
        "colab": {
          "background_save": true
        },
        "id": "Kp_nhgBF-9ID",
        "outputId": "505a3727-05d9-40bb-a948-5b1291488f61"
      },
      "outputs": [
        {
          "name": "stderr",
          "output_type": "stream",
          "text": [
            "/usr/local/lib/python3.7/dist-packages/sklearn/neighbors/_classification.py:198: DataConversionWarning: A column-vector y was passed when a 1d array was expected. Please change the shape of y to (n_samples,), for example using ravel().\n",
            "  return self._fit(X, y)\n"
          ]
        },
        {
          "name": "stdout",
          "output_type": "stream",
          "text": [
            "Number of test cases predicted correctly: 12474 out of 14800\n",
            "The testing accuracy using sklearn is 84.28378378378379 %\n"
          ]
        }
      ],
      "source": [
        "from sklearn.neighbors import KNeighborsClassifier\n",
        "neigh = KNeighborsClassifier(n_neighbors=5)\n",
        "neigh.fit(X_train, Y_train)\n",
        "pred_sk = neigh.predict(X_test).reshape((-1,1))\n",
        "score_sk = 0\n",
        "for i in range(X_test.shape[0]):\n",
        "    if pred_sk[i][0]==Y_test[i][0]:\n",
        "        score_sk+=1\n",
        "    \n",
        "print('Number of test cases predicted correctly:', score_sk, 'out of', X_test.shape[0])\n",
        "print('The testing accuracy using sklearn is',(score_sk/X_test.shape[0])*100,'%')"
      ]
    }
  ],
  "metadata": {
    "colab": {
      "collapsed_sections": [],
      "name": "KNN.ipynb",
      "provenance": [],
      "authorship_tag": "ABX9TyNLHM7BSqg1Ki/fmwzi35YI",
      "include_colab_link": true
    },
    "kernelspec": {
      "display_name": "Python 3",
      "name": "python3"
    },
    "language_info": {
      "name": "python"
    }
  },
  "nbformat": 4,
  "nbformat_minor": 0
}