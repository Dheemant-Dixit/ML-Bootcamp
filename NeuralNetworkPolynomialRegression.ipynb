{
  "nbformat": 4,
  "nbformat_minor": 0,
  "metadata": {
    "colab": {
      "name": "NeuralNetworkPolynomialRegression.ipynb",
      "provenance": [],
      "include_colab_link": true
    },
    "kernelspec": {
      "name": "python3",
      "display_name": "Python 3"
    },
    "language_info": {
      "name": "python"
    }
  },
  "cells": [
    {
      "cell_type": "markdown",
      "metadata": {
        "id": "view-in-github",
        "colab_type": "text"
      },
      "source": [
        "<a href=\"https://colab.research.google.com/github/Dheemant-Dixit/WoC-ML-Bootcamp/blob/main/NeuralNetworkPolynomialRegression.ipynb\" target=\"_parent\"><img src=\"https://colab.research.google.com/assets/colab-badge.svg\" alt=\"Open In Colab\"/></a>"
      ]
    },
    {
      "cell_type": "markdown",
      "source": [
        "#**Neural Network for Regression**\n",
        "*From scratch using Python*"
      ],
      "metadata": {
        "id": "sG_ZxkUR2SpY"
      }
    },
    {
      "cell_type": "markdown",
      "source": [
        "Neural networks, also known as artificial neural networks (ANNs) or simulated neural networks (SNNs), are a subset of machine learning and are at the heart of deep learning algorithms. Their name and structure are inspired by the human brain, mimicking the way that biological neurons signal to one another."
      ],
      "metadata": {
        "id": "005DOI423gHJ"
      }
    },
    {
      "cell_type": "markdown",
      "source": [
        "### Importing necessary libraries:\n",
        "Numpy, pandas and matplotlib."
      ],
      "metadata": {
        "id": "_tY0RL2j46Un"
      }
    },
    {
      "cell_type": "code",
      "execution_count": null,
      "metadata": {
        "id": "JrAEGfLagQeh"
      },
      "outputs": [],
      "source": [
        "import numpy as np\n",
        "import pandas as pd\n",
        "import matplotlib.pyplot as plt\n",
        "import time"
      ]
    },
    {
      "cell_type": "markdown",
      "source": [
        "### Using Google Drive Mount to access dataset files."
      ],
      "metadata": {
        "id": "lKIvi0La49oS"
      }
    },
    {
      "cell_type": "code",
      "source": [
        "from google.colab import drive\n",
        "drive.mount('/content/drive')"
      ],
      "metadata": {
        "colab": {
          "base_uri": "https://localhost:8080/"
        },
        "id": "NOCLneoIgbvv",
        "outputId": "7834c72c-2510-4576-9f8f-580220df840a"
      },
      "execution_count": null,
      "outputs": [
        {
          "output_type": "stream",
          "name": "stdout",
          "text": [
            "Drive already mounted at /content/drive; to attempt to forcibly remount, call drive.mount(\"/content/drive\", force_remount=True).\n"
          ]
        }
      ]
    },
    {
      "cell_type": "markdown",
      "source": [
        "## Loading Data Frame\n",
        "\n",
        "The famous library 'pandas' is used to load the data frame from the csv files provided."
      ],
      "metadata": {
        "id": "tFs--yTs5HbO"
      }
    },
    {
      "cell_type": "markdown",
      "source": [
        "Data Frame for training dataset."
      ],
      "metadata": {
        "id": "9EWNuO145OJD"
      }
    },
    {
      "cell_type": "code",
      "source": [
        "pd.options.display.max_columns = 15\n",
        "df_train = pd.read_csv('/content/drive/MyDrive/WoC-ML Bootcamp/Linear and Polynomial Regression/Polynomial_train.csv')\n",
        "df_train = df_train.drop(columns='Unnamed: 0')      # Dropping the row containing indices by default\n",
        "df_train.head()"
      ],
      "metadata": {
        "colab": {
          "base_uri": "https://localhost:8080/",
          "height": 206
        },
        "id": "SxxWIJLHgnNP",
        "outputId": "5ad9a1ab-4e8c-4826-ce66-d7c73b03950f"
      },
      "execution_count": null,
      "outputs": [
        {
          "output_type": "execute_result",
          "data": {
            "text/plain": [
              "          X         Y         Z       label\n",
              "0  0.643715 -9.866550 -5.836019  307.972927\n",
              "1 -1.366446 -3.761945 -8.756162  136.398375\n",
              "2 -4.090270 -1.836218 -1.846066 -310.724813\n",
              "3 -8.730478 -1.923651  3.892972    1.755447\n",
              "4  5.367169  0.358357  6.703989 -343.582590"
            ],
            "text/html": [
              "\n",
              "  <div id=\"df-711c1928-e37a-4f8e-bc1b-0aae7bffbc36\">\n",
              "    <div class=\"colab-df-container\">\n",
              "      <div>\n",
              "<style scoped>\n",
              "    .dataframe tbody tr th:only-of-type {\n",
              "        vertical-align: middle;\n",
              "    }\n",
              "\n",
              "    .dataframe tbody tr th {\n",
              "        vertical-align: top;\n",
              "    }\n",
              "\n",
              "    .dataframe thead th {\n",
              "        text-align: right;\n",
              "    }\n",
              "</style>\n",
              "<table border=\"1\" class=\"dataframe\">\n",
              "  <thead>\n",
              "    <tr style=\"text-align: right;\">\n",
              "      <th></th>\n",
              "      <th>X</th>\n",
              "      <th>Y</th>\n",
              "      <th>Z</th>\n",
              "      <th>label</th>\n",
              "    </tr>\n",
              "  </thead>\n",
              "  <tbody>\n",
              "    <tr>\n",
              "      <th>0</th>\n",
              "      <td>0.643715</td>\n",
              "      <td>-9.866550</td>\n",
              "      <td>-5.836019</td>\n",
              "      <td>307.972927</td>\n",
              "    </tr>\n",
              "    <tr>\n",
              "      <th>1</th>\n",
              "      <td>-1.366446</td>\n",
              "      <td>-3.761945</td>\n",
              "      <td>-8.756162</td>\n",
              "      <td>136.398375</td>\n",
              "    </tr>\n",
              "    <tr>\n",
              "      <th>2</th>\n",
              "      <td>-4.090270</td>\n",
              "      <td>-1.836218</td>\n",
              "      <td>-1.846066</td>\n",
              "      <td>-310.724813</td>\n",
              "    </tr>\n",
              "    <tr>\n",
              "      <th>3</th>\n",
              "      <td>-8.730478</td>\n",
              "      <td>-1.923651</td>\n",
              "      <td>3.892972</td>\n",
              "      <td>1.755447</td>\n",
              "    </tr>\n",
              "    <tr>\n",
              "      <th>4</th>\n",
              "      <td>5.367169</td>\n",
              "      <td>0.358357</td>\n",
              "      <td>6.703989</td>\n",
              "      <td>-343.582590</td>\n",
              "    </tr>\n",
              "  </tbody>\n",
              "</table>\n",
              "</div>\n",
              "      <button class=\"colab-df-convert\" onclick=\"convertToInteractive('df-711c1928-e37a-4f8e-bc1b-0aae7bffbc36')\"\n",
              "              title=\"Convert this dataframe to an interactive table.\"\n",
              "              style=\"display:none;\">\n",
              "        \n",
              "  <svg xmlns=\"http://www.w3.org/2000/svg\" height=\"24px\"viewBox=\"0 0 24 24\"\n",
              "       width=\"24px\">\n",
              "    <path d=\"M0 0h24v24H0V0z\" fill=\"none\"/>\n",
              "    <path d=\"M18.56 5.44l.94 2.06.94-2.06 2.06-.94-2.06-.94-.94-2.06-.94 2.06-2.06.94zm-11 1L8.5 8.5l.94-2.06 2.06-.94-2.06-.94L8.5 2.5l-.94 2.06-2.06.94zm10 10l.94 2.06.94-2.06 2.06-.94-2.06-.94-.94-2.06-.94 2.06-2.06.94z\"/><path d=\"M17.41 7.96l-1.37-1.37c-.4-.4-.92-.59-1.43-.59-.52 0-1.04.2-1.43.59L10.3 9.45l-7.72 7.72c-.78.78-.78 2.05 0 2.83L4 21.41c.39.39.9.59 1.41.59.51 0 1.02-.2 1.41-.59l7.78-7.78 2.81-2.81c.8-.78.8-2.07 0-2.86zM5.41 20L4 18.59l7.72-7.72 1.47 1.35L5.41 20z\"/>\n",
              "  </svg>\n",
              "      </button>\n",
              "      \n",
              "  <style>\n",
              "    .colab-df-container {\n",
              "      display:flex;\n",
              "      flex-wrap:wrap;\n",
              "      gap: 12px;\n",
              "    }\n",
              "\n",
              "    .colab-df-convert {\n",
              "      background-color: #E8F0FE;\n",
              "      border: none;\n",
              "      border-radius: 50%;\n",
              "      cursor: pointer;\n",
              "      display: none;\n",
              "      fill: #1967D2;\n",
              "      height: 32px;\n",
              "      padding: 0 0 0 0;\n",
              "      width: 32px;\n",
              "    }\n",
              "\n",
              "    .colab-df-convert:hover {\n",
              "      background-color: #E2EBFA;\n",
              "      box-shadow: 0px 1px 2px rgba(60, 64, 67, 0.3), 0px 1px 3px 1px rgba(60, 64, 67, 0.15);\n",
              "      fill: #174EA6;\n",
              "    }\n",
              "\n",
              "    [theme=dark] .colab-df-convert {\n",
              "      background-color: #3B4455;\n",
              "      fill: #D2E3FC;\n",
              "    }\n",
              "\n",
              "    [theme=dark] .colab-df-convert:hover {\n",
              "      background-color: #434B5C;\n",
              "      box-shadow: 0px 1px 3px 1px rgba(0, 0, 0, 0.15);\n",
              "      filter: drop-shadow(0px 1px 2px rgba(0, 0, 0, 0.3));\n",
              "      fill: #FFFFFF;\n",
              "    }\n",
              "  </style>\n",
              "\n",
              "      <script>\n",
              "        const buttonEl =\n",
              "          document.querySelector('#df-711c1928-e37a-4f8e-bc1b-0aae7bffbc36 button.colab-df-convert');\n",
              "        buttonEl.style.display =\n",
              "          google.colab.kernel.accessAllowed ? 'block' : 'none';\n",
              "\n",
              "        async function convertToInteractive(key) {\n",
              "          const element = document.querySelector('#df-711c1928-e37a-4f8e-bc1b-0aae7bffbc36');\n",
              "          const dataTable =\n",
              "            await google.colab.kernel.invokeFunction('convertToInteractive',\n",
              "                                                     [key], {});\n",
              "          if (!dataTable) return;\n",
              "\n",
              "          const docLinkHtml = 'Like what you see? Visit the ' +\n",
              "            '<a target=\"_blank\" href=https://colab.research.google.com/notebooks/data_table.ipynb>data table notebook</a>'\n",
              "            + ' to learn more about interactive tables.';\n",
              "          element.innerHTML = '';\n",
              "          dataTable['output_type'] = 'display_data';\n",
              "          await google.colab.output.renderOutput(dataTable, element);\n",
              "          const docLink = document.createElement('div');\n",
              "          docLink.innerHTML = docLinkHtml;\n",
              "          element.appendChild(docLink);\n",
              "        }\n",
              "      </script>\n",
              "    </div>\n",
              "  </div>\n",
              "  "
            ]
          },
          "metadata": {},
          "execution_count": 45
        }
      ]
    },
    {
      "cell_type": "markdown",
      "source": [
        "Data Frame for testing dataset."
      ],
      "metadata": {
        "id": "vNzrIBO35UY9"
      }
    },
    {
      "cell_type": "code",
      "source": [
        "df_test = pd.read_csv('/content/drive/MyDrive/WoC-ML Bootcamp/Linear and Polynomial Regression/Polynomial_test.csv')\n",
        "df_test = df_test.drop(columns=['Unnamed: 0'])      # Dropping the row containing indices by default\n",
        "df_test.head()"
      ],
      "metadata": {
        "colab": {
          "base_uri": "https://localhost:8080/",
          "height": 206
        },
        "id": "F5j1kjVBgtlg",
        "outputId": "57a4d063-44b6-4319-de6c-7fe1712b2631"
      },
      "execution_count": null,
      "outputs": [
        {
          "output_type": "execute_result",
          "data": {
            "text/plain": [
              "          X         Y         Z        label\n",
              "0  9.322078  0.413096  5.984731  -657.669309\n",
              "1  2.811964  6.142752  6.419237  -545.362524\n",
              "2 -2.669784  7.775091 -6.931907   -75.044187\n",
              "3 -6.992156 -9.205548  0.852580 -2403.124902\n",
              "4  1.574294 -2.213266  6.029188     8.595325"
            ],
            "text/html": [
              "\n",
              "  <div id=\"df-a1883d5d-f2c0-4059-81b0-4c2c4e5c68ff\">\n",
              "    <div class=\"colab-df-container\">\n",
              "      <div>\n",
              "<style scoped>\n",
              "    .dataframe tbody tr th:only-of-type {\n",
              "        vertical-align: middle;\n",
              "    }\n",
              "\n",
              "    .dataframe tbody tr th {\n",
              "        vertical-align: top;\n",
              "    }\n",
              "\n",
              "    .dataframe thead th {\n",
              "        text-align: right;\n",
              "    }\n",
              "</style>\n",
              "<table border=\"1\" class=\"dataframe\">\n",
              "  <thead>\n",
              "    <tr style=\"text-align: right;\">\n",
              "      <th></th>\n",
              "      <th>X</th>\n",
              "      <th>Y</th>\n",
              "      <th>Z</th>\n",
              "      <th>label</th>\n",
              "    </tr>\n",
              "  </thead>\n",
              "  <tbody>\n",
              "    <tr>\n",
              "      <th>0</th>\n",
              "      <td>9.322078</td>\n",
              "      <td>0.413096</td>\n",
              "      <td>5.984731</td>\n",
              "      <td>-657.669309</td>\n",
              "    </tr>\n",
              "    <tr>\n",
              "      <th>1</th>\n",
              "      <td>2.811964</td>\n",
              "      <td>6.142752</td>\n",
              "      <td>6.419237</td>\n",
              "      <td>-545.362524</td>\n",
              "    </tr>\n",
              "    <tr>\n",
              "      <th>2</th>\n",
              "      <td>-2.669784</td>\n",
              "      <td>7.775091</td>\n",
              "      <td>-6.931907</td>\n",
              "      <td>-75.044187</td>\n",
              "    </tr>\n",
              "    <tr>\n",
              "      <th>3</th>\n",
              "      <td>-6.992156</td>\n",
              "      <td>-9.205548</td>\n",
              "      <td>0.852580</td>\n",
              "      <td>-2403.124902</td>\n",
              "    </tr>\n",
              "    <tr>\n",
              "      <th>4</th>\n",
              "      <td>1.574294</td>\n",
              "      <td>-2.213266</td>\n",
              "      <td>6.029188</td>\n",
              "      <td>8.595325</td>\n",
              "    </tr>\n",
              "  </tbody>\n",
              "</table>\n",
              "</div>\n",
              "      <button class=\"colab-df-convert\" onclick=\"convertToInteractive('df-a1883d5d-f2c0-4059-81b0-4c2c4e5c68ff')\"\n",
              "              title=\"Convert this dataframe to an interactive table.\"\n",
              "              style=\"display:none;\">\n",
              "        \n",
              "  <svg xmlns=\"http://www.w3.org/2000/svg\" height=\"24px\"viewBox=\"0 0 24 24\"\n",
              "       width=\"24px\">\n",
              "    <path d=\"M0 0h24v24H0V0z\" fill=\"none\"/>\n",
              "    <path d=\"M18.56 5.44l.94 2.06.94-2.06 2.06-.94-2.06-.94-.94-2.06-.94 2.06-2.06.94zm-11 1L8.5 8.5l.94-2.06 2.06-.94-2.06-.94L8.5 2.5l-.94 2.06-2.06.94zm10 10l.94 2.06.94-2.06 2.06-.94-2.06-.94-.94-2.06-.94 2.06-2.06.94z\"/><path d=\"M17.41 7.96l-1.37-1.37c-.4-.4-.92-.59-1.43-.59-.52 0-1.04.2-1.43.59L10.3 9.45l-7.72 7.72c-.78.78-.78 2.05 0 2.83L4 21.41c.39.39.9.59 1.41.59.51 0 1.02-.2 1.41-.59l7.78-7.78 2.81-2.81c.8-.78.8-2.07 0-2.86zM5.41 20L4 18.59l7.72-7.72 1.47 1.35L5.41 20z\"/>\n",
              "  </svg>\n",
              "      </button>\n",
              "      \n",
              "  <style>\n",
              "    .colab-df-container {\n",
              "      display:flex;\n",
              "      flex-wrap:wrap;\n",
              "      gap: 12px;\n",
              "    }\n",
              "\n",
              "    .colab-df-convert {\n",
              "      background-color: #E8F0FE;\n",
              "      border: none;\n",
              "      border-radius: 50%;\n",
              "      cursor: pointer;\n",
              "      display: none;\n",
              "      fill: #1967D2;\n",
              "      height: 32px;\n",
              "      padding: 0 0 0 0;\n",
              "      width: 32px;\n",
              "    }\n",
              "\n",
              "    .colab-df-convert:hover {\n",
              "      background-color: #E2EBFA;\n",
              "      box-shadow: 0px 1px 2px rgba(60, 64, 67, 0.3), 0px 1px 3px 1px rgba(60, 64, 67, 0.15);\n",
              "      fill: #174EA6;\n",
              "    }\n",
              "\n",
              "    [theme=dark] .colab-df-convert {\n",
              "      background-color: #3B4455;\n",
              "      fill: #D2E3FC;\n",
              "    }\n",
              "\n",
              "    [theme=dark] .colab-df-convert:hover {\n",
              "      background-color: #434B5C;\n",
              "      box-shadow: 0px 1px 3px 1px rgba(0, 0, 0, 0.15);\n",
              "      filter: drop-shadow(0px 1px 2px rgba(0, 0, 0, 0.3));\n",
              "      fill: #FFFFFF;\n",
              "    }\n",
              "  </style>\n",
              "\n",
              "      <script>\n",
              "        const buttonEl =\n",
              "          document.querySelector('#df-a1883d5d-f2c0-4059-81b0-4c2c4e5c68ff button.colab-df-convert');\n",
              "        buttonEl.style.display =\n",
              "          google.colab.kernel.accessAllowed ? 'block' : 'none';\n",
              "\n",
              "        async function convertToInteractive(key) {\n",
              "          const element = document.querySelector('#df-a1883d5d-f2c0-4059-81b0-4c2c4e5c68ff');\n",
              "          const dataTable =\n",
              "            await google.colab.kernel.invokeFunction('convertToInteractive',\n",
              "                                                     [key], {});\n",
              "          if (!dataTable) return;\n",
              "\n",
              "          const docLinkHtml = 'Like what you see? Visit the ' +\n",
              "            '<a target=\"_blank\" href=https://colab.research.google.com/notebooks/data_table.ipynb>data table notebook</a>'\n",
              "            + ' to learn more about interactive tables.';\n",
              "          element.innerHTML = '';\n",
              "          dataTable['output_type'] = 'display_data';\n",
              "          await google.colab.output.renderOutput(dataTable, element);\n",
              "          const docLink = document.createElement('div');\n",
              "          docLink.innerHTML = docLinkHtml;\n",
              "          element.appendChild(docLink);\n",
              "        }\n",
              "      </script>\n",
              "    </div>\n",
              "  </div>\n",
              "  "
            ]
          },
          "metadata": {},
          "execution_count": 46
        }
      ]
    },
    {
      "cell_type": "markdown",
      "source": [
        "## Converting the Data Frame to NumPy Arrays\n",
        "\n",
        "Using the function `.to_numpy()` to conver the Data Frame to numpy array and then slicing the array to separate features from the label.\n",
        "\n",
        "`X_train` --> Array with all features of training dataset.\n",
        "\n",
        "`Y_train` --> Array with all labels of training dataset.\n",
        "\n",
        "`X_test` --> Array with all features of testing dataset.\n",
        "\n",
        "`Y_test` --> Array with all labels of testing dataset."
      ],
      "metadata": {
        "id": "YV_7v5gr5z8z"
      }
    },
    {
      "cell_type": "code",
      "source": [
        "X_train = df_train.to_numpy()\n",
        "# Number of features:\n",
        "n = (X_train.shape[1] - 1)\n",
        "# Number of training examples:\n",
        "m = X_train.shape[0]\n",
        "Y_train = X_train[ : , -1]\n",
        "Y_train = Y_train.reshape(X_train.shape[0], 1)\n",
        "X_train = X_train[ : , :n]"
      ],
      "metadata": {
        "id": "6XrOUU4nhLdc"
      },
      "execution_count": null,
      "outputs": []
    },
    {
      "cell_type": "code",
      "source": [
        "X_test = df_test.to_numpy()\n",
        "Y_test = (X_test[ : , -1])\n",
        "Y_test = Y_test.reshape(X_test.shape[0], 1)\n",
        "X_test = X_test[ : , :n]"
      ],
      "metadata": {
        "id": "4RWhKUa4lpOU"
      },
      "execution_count": null,
      "outputs": []
    },
    {
      "cell_type": "markdown",
      "source": [
        "## Normalising data:\n",
        "\n",
        "After reviewing the data, I found that all the features were not close to each other, rather they were far apart in values. This will cause gradient descent to be slow.\n",
        "\n",
        "To fix this problem, the data will be normalised.\n",
        "\n",
        "For normalisation, mean value of every feature will be subtracted from its value and then it will be scaled by the standard deviation of the respective feature. `.mean` and `.std functions` will be used for the same.\n",
        "\n",
        "`normalise(X)` --> function for normalisation.\n",
        "\n",
        "`mu` --> Mean of all the features.\n",
        "\n",
        "`sigma` --> Standard deviation of all the features.\n",
        "\n",
        "`X_train_norm` --> Normalised training dataset features.\n",
        "\n",
        "`X_test_norm` --> Normalised testing dataset features."
      ],
      "metadata": {
        "id": "Gg4DkNJ97WZg"
      }
    },
    {
      "cell_type": "code",
      "source": [
        "def normalise(X):\n",
        "    mu = np.mean(X, axis = 0)       # Mean (Column wise)\n",
        "    sigma = np.std(X, axis = 0)     # Standard Deviation (Column wise)\n",
        "    X = X-mu\n",
        "    X = X/sigma\n",
        "    return X, mu, sigma"
      ],
      "metadata": {
        "id": "6IUjHh6qlvAH"
      },
      "execution_count": null,
      "outputs": []
    },
    {
      "cell_type": "code",
      "source": [
        "global mu, sigma\n",
        "X_train_norm, mu, sigma = normalise(X_train)\n",
        "X_test_norm = (X_test-mu)/sigma"
      ],
      "metadata": {
        "id": "AYcmEyrxmFNX"
      },
      "execution_count": null,
      "outputs": []
    },
    {
      "cell_type": "markdown",
      "source": [
        "### Visualising the data:\n",
        "\n",
        "Since there are 20 features and all of them cannot be visualised in the same plot, every feature will be plotted separately for visualisation.\n",
        "\n",
        "Here, feature A has been visualised."
      ],
      "metadata": {
        "id": "1HFjl9Sl8ANN"
      }
    },
    {
      "cell_type": "code",
      "source": [
        "plt.grid(True)\n",
        "plt.scatter(X_train_norm[:, 1],Y_train, marker = \"x\")         # The plot is for feature A vs Y\n",
        "plt.xlabel('X →')\n",
        "plt.ylabel('Y →')\n",
        "plt.show()"
      ],
      "metadata": {
        "colab": {
          "base_uri": "https://localhost:8080/",
          "height": 279
        },
        "id": "EmFBEREOjLjI",
        "outputId": "502098d7-4599-4f18-967d-e8c050fd6a14"
      },
      "execution_count": null,
      "outputs": [
        {
          "output_type": "display_data",
          "data": {
            "text/plain": [
              "<Figure size 432x288 with 1 Axes>"
            ],
            "image/png": "[encoded data removed]"
          },
          "metadata": {
            "needs_background": "light"
          }
        }
      ]
    },
    {
      "cell_type": "markdown",
      "source": [
        "## Abstract Base Class : Layer\n",
        "\n",
        "The abstract class Layer, which all other layers will inherit from, handles simple properties which are an input, an output, and both a forward and backward methods."
      ],
      "metadata": {
        "id": "24OUc-3p87bn"
      }
    },
    {
      "cell_type": "code",
      "source": [
        "# Base class\n",
        "class Layer:\n",
        "    def __init__(self):\n",
        "        self.input = None\n",
        "        self.output = None\n",
        "\n",
        "    # computes the output Y of a layer for a given input X\n",
        "    def forward_propagation(self, input):\n",
        "        raise NotImplementedError\n",
        "\n",
        "    # computes dE/dX for a given dE/dY (and update parameters if any)\n",
        "    def backward_propagation(self, output_error, learning_rate):\n",
        "        raise NotImplementedError"
      ],
      "metadata": {
        "id": "M5OHOs8mjkyF"
      },
      "execution_count": null,
      "outputs": []
    },
    {
      "cell_type": "markdown",
      "source": [
        "## Fully Connected Layer\n",
        "\n",
        "FC layers are the most basic layers as every input neurons are connected to every output neurons.\n",
        "\n",
        "### Forward Propogation:"
      ],
      "metadata": {
        "id": "3BVOKepE9461"
      }
    },
    {
      "cell_type": "markdown",
      "source": [
        "![ForwardProp.png](data:image/png;base64,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)"
      ],
      "metadata": {
        "id": "smVNoVBt-Ra_"
      }
    },
    {
      "cell_type": "markdown",
      "source": [
        "### Backward Propogation:"
      ],
      "metadata": {
        "id": "rGQuet8c_RU_"
      }
    },
    {
      "cell_type": "markdown",
      "source": [
        "![BackwardProp06.png](data:image/png;base64,iVBORw0KGgoAAAANSUhEUgAAAPYAAAEkCAYAAAAck8xYAAAY7klEQVR42uydP5LkuHKH0aMxFLK47Une43oyuXsDcTyZ3LcneJwbUCFPnoLjSR53jsC5AecIy74B25W37BuUoiNACQ+PfwAkyGJVfV9ExWxsF1lV/CGBzASQ+KjCyJRSn5VSqX69KaV+V0q1SqnvCu4VdL9T3sXslVKDUqpSSuVa7FIp1SilLvrvGY8K3eF2xB21sFvvuWjxfan1tXu8aiQ8pe5ovgNPHu8ddO/8xcFd6/V//6iUevX4jEQ3kmf9b2P9/bN2/ZZ4Nu7xqzWC/KavBz/21h3Nr0ile+TS8f2meyZhNHrfLjAmnO5RIeNN6I7mB2I+7Mrx4V4ELvnk3pluVSlonO/XF8h4et3RPBIfHB924nnfF8uVCsFuGKFZ1+m6N+zU28iO1h3NrxBn+bpG0zVj4Ge2Rs89Cr57ou+RIuPpdUfzK+Dbe/eGSKnQDWwjiAzn1x3ND3TFVaBbkwgah+0GdoLf+IxLJuIo3dH8SoYd8nBN0faMtaqVREniOeUG19Edza/slpW6Nx2069TraQ5bxIsgQ+obaw0bq56Itc6vO5pfiWkKYdAip4bohRa6MB6qKXC2Y6yVEUPfhe5ofoXeesp0Ng6Jk1Q3gEtgEsV3LrMXxmNwfd3R/GDMVTy1Y5zUGiuQLgE9a7nR60/LBwsjA8sKo9vWHc0PxFzY7zuPOQiWBbYBi/1z5Lpp3dH8QELnIzvhDht7rXBmvXLdczeBHgGcT3c0P4hGsFCgEyRQfGOtLsJGE7iu7mh+YNJE4vIMgmWBvsmXjn3WN687mh9ELUh8KevaRhBfu85l5hujAVU9zq07mh+EZD/skfPXk8hbvTvbNc+tO5pfwR3znVKoIjaOUvhbMuEOIXTfX3c0P4hcGGf1gmsli1qWem7mOs+tO5rH65jLtU03heBBZ8KSNrH24prfJcFmnbiW7mgeh3bL08oECZTuJPuvpxGkxV6DjPNI3dE8Dk7eUkgPmgvis9ixVhWYuHt0jtYdzeOHUaveSuP6RsO/H4W9rh1rJcL7sIDBn6N1R/M41K6/P/HsRfsIrlQnjLVSK15juiMsAXOk7mgeh35uCe/TSi84LTL4yao+acZlX/W/35RSv3jGdFOh909WQ3p1qHCZ6Ovfv9vPlgv2ppT6ATsNHv320h3N49A6dGJvrq5So2+W63imNXraQhAT7PEqsU+xccfWHc3je1eJNZuRGC+nG1QLJXFwd++74TyK7q5nh40L4YBr51OseDKh19bklACWO7FMG89gGVSvvYF8ZSovm9lSam5dLRyy9blxnJLZkdQbU1g9B04C+I/evuWTpSd9Fp4JycX56w9oCfB/DIJrY5Q7/qQTli4JSdML+I5hAyzzx8woLHHxfd//Z49ZhmmUnpu5wLABDOxpomeBIT97fvZXfZ73q8forgQHFwI8DJljNnoOuyCjz4aYPCAMWIqvU/ZJAPztqBsyP55pw+ytjLpPbO+z3TVdSfC1rOUAWB4JfTa2DEZtdd9lslXAdtds4TMK5rQBtg3bpXZbaRim74EJ00YayTbnxOggemoQAKwbjMt8sm2Yladht4KKL6nuUEbtMTRIB7DuVrsmwGzD9NmKmgvnzeEAqp03OVyEZafAnc4xAZbNGGbhUa112POYoo/oGIUXvYVx7/jmDcPenTfL3V0brT+vXKtW5rIrPV/NHDTAQbgkwMqF+NtlHlySMGPEBogwYqsFw6yVUn+a+durw4j9VSn1n5HWlgOAI1sJsGYjk722wys7KmH28YGPJH2iDT+M9j5az20EeTEMM3co42SO7ltx+S6wCQRg3RV/ttzozx7Xm9dWuoMgYQZwBZYSYKXj5op+ZmrykISZ7YqDnMk9O2I533tj+cIjP3TEXkuYrbnyqTHSkzC7QWoWqNxd7sFMgDUeSz/tjSAZK8wAzmfYvadh2vPgu64wwxUH8HPHEyPm/iRw5UmYAZyEQXAKaKwzyUQw3QXwt5hJrr94Xmsmz/7NYSUbABxEKzgSOjdi65sh08mBzqjx1FwjOQBovyOVoMRQYmTDT09qZAcrLWZmnM44ZQ85bP7+QPs7FnbccEtSo6RMLkw2rL1q4T1S5LyK9j4aNx7fbeteFRIuMzg+oExgQNPBZtXKMampQ2zTBxyqBsdoP2k8t5inNw6vSwLCA/te02F4FPZbiTVGjzrFTYRjPavAHty8diTuP7X2TcTzrYvAAv8Pzejp1mRrJwB6JB8uAfWZEyOpA+fWPpsZZSVexYhH5hdfhcQroRP7az26S0/cY9Q3pf0QIf/R6vvgcgf0hr4bDwbPkTZGj94j8M1pXwnPk64ZqWX4GksfKQvdO5Zy7TDqm9Q+mdks4UrpUN4XdurppQ/ertHcLrhiI0Z9s9p3HnW4J3JhDgciJF2KiPeyF9S3uGI3r33hOQOSRsiig+U2lYbbOxpLCtOFBEqMXnUpDmtwxe5G+4vjeVfTUs0aSeJQGTGQuVAkMY7tLKwe9RLJ8OamvmqM+q60d50BGTjQPV5PPTi6SL0WttxhCWc706sTX92P9plD6aeOklBxyIx4qXZMaLQB5wOHCM9c9f1pP6zkUhpmPeJgLur3ncMcdiq617OZ4661rxYWxFTMeuxjRD4G1AkXHLg0tpD143B+7efmtAs68Xg0giWhXeTEmTIyoc2MccN9ad+RS9kvYSJ5qEPAxg2XBM7UyOqIO4LgfNqX7KXeh1o4IsZ2lXsrVksFSxDh/NpXeGT7MAqSH7Hnr5d2au3h7sM5tO8i7QyEFVesEvS20mz42qaO3GH9ONym9oRZO5ALY6w+UsLDZX/tcIaC7GgfVfuM6cx9KAQPNovUY7suRCh3mlZD++tpX0VOvMJCjxkaG6WC5I3PTq0LDeFutCe+3pkQQ8kjTE9UAdsvQ0onwfm0J74+gMYzbk2MbGor/Ezf2Cxl/fjNa7/kMTDTEZnEs9fsBcKmhvsV6koPNIib1H4tvmb+eidKB0PJAoRNjQMBuoUTPjLH+1Qzm0IuxokVBUsRT6X93D3ylQMiTA3Jju8kcGM85MrYGz16xrW9w3EsfcAozXE+59d+yTOQHOkEGzytCFDqk/zfDeRZnxn8ux5xv/Ho7totR3sAgLPxgUcAgGEDAIYNABg2AGDYAIBhA2DYAIBhAwCGDQAYNgBg2AAYNgBg2ABwfj5Guk+mlPqst/m9v970Nr9WKfWdxww3yEO36VQXSBj0ZvxcP5DSqKPVU7YIaNO39QDGjQqV5hG4vuWKas9qG1TmANq05knwEAbdg31xcGmmskc/6mocLiRGBY905rC3z9o1WuLZuMevVg/7m74egDZtMNUCd60B3UQoEzwKT53IjHtwRCvQpje+UOX4BSTnO6WRispXHDAAj9CmPwR+Id+D8F4sd8MX+8GFZiWn695ox0Cbno9FfN2HQXBAQBvprK6E0sRAm96+oQ+9oOb3GOnQtoTTJuAR2rRk5dmb4KElAjdJclzrM244PEKbPnJJ6bP1w/aKRaqV5FjiMTUB8LBtejo1otPxxqjdk2bmh14Cs4i+sciwsSqI+Bpo0xu9yEV/aGncPNG9S2/0MqngZEyfWCQjhgbadHiPNhgHt20lF1LrsDefRIPvXF8vjFfgcUfph27T5kqX2jGWaK2D1X16n3KjV0yMI3p7VpUBbdofc/G771zfELh0rg1YDM/Z2ECb9iB0zq4T7Kyy19Jm1ms6QL0J6DkBHr5NN4LJ9C4wyeAbi3TCBfnwWDx8m06EbsEQuHTONznRsc8aaNPu1IFJggnz2iYwFnGd68s3eksquQBteiEm8E1OHDHXNz2Erd6P7ZpAm55xWXzT7lXgA4y1V3UiE+6ggft1wx+yTefCWKQPvDZ08n+tZ2N++76MswzYjUWb1hSCL5MJ3J1Ye1XN75FgD3dDK1i4QZu2fsgloEe59l7VqYdtsYW7QrJwgzZtPcQx0N2phMkJSSxSBSQ44NyYbSuhTYfTeD7IxOidQnoVOxYJFa+MUEUSzkcdQVfatJVFLD2SC60gKSCJRVIrnmGK677oIxz6cPdt+smjp5gm4n+yKjSasctX/e83pdQvHjHPVAj9k/WgXx0qQCb6+vfv9bPlorwppX7AFm6a1qEhh+hMm55xJxr9sHPt87dGb1QExi17vErs4i5IjGIHpjubCGc7aNPGA64Wysbg8t43ZYSz0Vzvke4YX9OmAWZczMJafWWPJqnDiNZb1/X62nzj+p5DFQH2pRJshqgMN9dnLppiGgAHxL2XgGzvVF+sD/AWKKYBcAB23S+XmLQPjJEr1iUAHBdz27HyllEPgZnsjvga4Dh6x/3JncCo1+LrlL0AAPGxd0vNGVmrY/BQo05XlmO2rFcA2IdxZS30ZNRpBJd/nOlUiLkBdqJaWKDSRNxdN1qdRqWNmn32ADsxN/VVR94ym+o4fdSxesNjB9ifllNZ4JHd1D1f1zyQ0HfqC3bkI49gd170lr+9Y8G3Kxv2i35lhqGnexzKDgDHkc5kx4mDAW6YqXRQM2PcAHCjRj0YC1Nqil1cnyd61dVnA9v0Sqk/dAmgySU3j6Z5j7F/PMl3fZS2/vSBdglCo1aGUU+G/N2KvSn/DHAjrG3qyB3WjwPu5k2T66qUyUHG9uWAz2n1KPyTnmabY7DWh/+w8l6Am6O+swUqjeP2y9KxwCEAnKCT8tmpdYl4EB0A7EAVsP0ypHQSABxEE7ipI2X9OMD5SI1aY6Gu9OBYOgki8nc8ArAM+V+UUv+qlPoPpdR/Ga733yul/kEvRvkfh/v8RSn130qpf7b+9qs28H9USv0Tm0TOQabdss6oDd2w7/Zu6B0y733AKB1ynA9t/aCefCodW+kflxknFk6C42YBbf2Gfui4cYq/uWVvqUdznc8dHZIwa69ipQcOvRYex6ilbd3n8MLG43tt3asKSX5Ujq7LmnuVGIe6DQGHsk3XNgunOxYOvWhuTNvY9bkIJyBWW5/aar0QykxtNQkIDex7TW3fa2XjZASuW+8axzisXilX69t7haxoKljDDAe19SbiNtYilnc5eg71mWMhu1Jg2CqCYTfMqcJBbT1mLbjBdZHQh42R0dfgXoz//rzyvj9mPiuUJOD9f1ZK/UJbhgPa+os1pZcFtvfJu/xTjCnCIWBzweCwoCEXlKlNhFsCWzYkwIFtXa0cqOBKHeE0FfGI2DvMUWaCbHQr2NGUW9U9APZu63ODkU8bLM+yYm9wWD6YBCYUMmOxQEjMMpD9hoPb+kQXsLQ2P9PBC6PjSBwyBzcZZhuwHbC6ct1tuD9GD6+z8JzDTo8oBpnoD+iMzNy0xC5dMdjc0bAbR5dkMszGs8RtskeMAnfrjsdu63Pvvzi0111zQZURF5TGj0uMY0wLq5dxcTdGjwSYbZiVp2G3IStz4OHYq62rhQGpWPFM2z17rsFxRO31Dy09FvgPHgkw2zB95sFJmMG127qZI9pK/HZ7hoyZMaLWjkF+6+kid44JsGzGMAuP3pKEGVy7rS8NaPag5FpPLghzkbvvnJ7vKOySAJszTNd5cBJmcIa2Pufu24njaUnrbtVs+8C9sp3nJLxLj1cuxBou8+AkzOAsbd1ul/acdrH33vRGsKLLd56u3jDsZKUHc5kHJ2EGZ2nrW9fvOledCD9o8Jxb3kqANRuGudZjZiTM4ERtfavt7zoA1cLjT33npdcSYC6GufZ5JMzgTG19K87elVFwokQqWC4312v2Doa5NA9esc8aTtbW11zxXdrqR8M1SawP9sFMXn23trQt8ceMezS5KfaJjXO8Gg81Mf79d32mFMCSG350W58b1EI/3/uDJDFHH3BtOpMASzxS/t3MbhkSZnDGtm7nfw6r0loIPiwTuDV2AqzxMEx7HpyEGZy5rc/F17ufZ5YJgvlO0PvYJWN8DLOZmQ8kYQZnbeuHxddLRjYGujWVMInh69rUHK4ON9TW5waz8ogf23gWF0wMwww1qkFgmNKCiPC4XKOtz3kLh1RFSTx7kj7CD+0EhlkcNcEPd8c12ro6ev56aRTMVnqdWD+0FRhmHlA/CuDItp7pdlrMGPXU7ouNgzJ2+cGN8cGVYYhjpONwKkGd5cTIhgOcra0nHkf9XGJXS3la+VLvP/qT7kme9YKQ37X7/I02AXfkltPWAeD8fOARAGDYAIBhAwCGDQAYNgBg2AAYNgBg2ACAYQMAhg0AGDYAhg0AGDYAnJ+Pnu/PlFKf9fa299eb3t7WOtQBh9sCrR+A1KgiWunN6Jnex9oYVUYpeoDWcENCjxvli8xzhkNKANee1SauVpkCrdH6FnhyeM+ge+ovDq7bVOboR12FwpXEqF6Rzhx09lm7gUs8G/f41RpNftPXA1qDZjpl37X+semqSRiFJy5kxj2oYIrWsPLQK8eHLD3IO41UVH2qClkgI1o/Gh82Hrpvre8Xy6UKwW4koRnY6bo3ZHYyMLR+sJjL10UahAeOtZEOLUuOOM0QrdH6VvHtyXvhwWVjpPO4kqNPW0BrtL4FV1wFujeJoKGkwkPJTZ5xzbxB6wcy7JCHbIq3Z8xVrSRMEs9pGEDrh3TRSt2rDtqF6vWUhy3oRZAt9Y25ho0VUMRcaA0rPeV0+F1pPMBE96C90ZOmwmNCfWKujLgKrSGs5x6MA8u2kijpzJnVqWfM5TOn2QvjMkDrh8NczVM7xkutdaC4bw9bbowA0zLCwsjGstIIrcGjNx0D5zQHwfLANmDRf45caA1uhM5NdsKdNvaa4cx6TQeIN4GjBKD1w9IIFgx0gmSKb8zVRdh8gNZo/TAJFInrMwiWB/omYjr23qI1uFELkiHKurYRxFyuc5r5xqhAhQ+0BuG+2CPnNCext3p5tvChNa6ZJZbv1EIVsaGUwt+SCXcKoTVa3w25MObqBddKFjos9eDMeaI1aFcm9IFnwtI2sfbkmt8lQVK0hr8W7BLQa55hT+40mrTIidbw/4T0pLkgVosdc1WByRy0Ruu7xlywkDgmYUZh72vHXInwPixkQGuYEc+nN+0juFSdMOZKrbiNaQ+0hpkDA0pjwcFPViVKM0b7qv/9ppT6xTO+mwq+f7Ia1atDtctEX//+3X62XLE3pdQPSOo18qH1gwlurioqdHxVGT3mGNBj5jse7RJjThSt0fpuR2yztyx1Tzsdx/Kqj17pdO8N9+OWozUAwNnh4HsADBsAMGwAwLABAMMGAAwbAMMGAAwbADBsAMCwAQDDPoJq500OF2EJInhwPvIIgnjRmyP2rrf1hmEDAACuOACGDQA3FWM/yhGlT8iN1ozYAAAAcC5XHPzJdZXNI46X6ZRSX3jkAPtTs0AFAAAOheQZAIYNABg2AGDYABAH3+muTE/zpPr1po+CaZVS33mcdwVaPwCpPkp10HuRcy18aZy13HMQOVrDbQk9apG33nPRDcGHIsJc76BHkhy5TqF16aFd4/Hdtu5VIaE7g+MDy4wHnHrcP9ENpNANYrQOSC/13+dehV4sMlhGzmhyfa0zQx/bAHv9t8xz9V5meA3mvWp9vwQJ3agM43LBdNVC6Q3Rao/rbMFT5DuN1k3E861ND69AtjBGTzfH7MlD3eKL4B6j1ZPDObTOZkZZiVcx0nHL4q2Q+GV6fxvwmXYD8MUeGXDNzqP1EMGjavV90DVCzOW7EWEw4uMQd1DSq1fCER+t99Pa1qb2/H41I3VcEkGMnB4UX5vim42HJNp5tE5mZjJcKdHzPD1/iBDS0bYXuvKwr9ZdQMeb432dLwnjk7XMhUaZCV092F/rwnMOO42QRYcNN6rUPe6Uley1MGmkUbcWxtcDGfGb0Pri2IEn+rPpoHeiMmKi0hA30T1wb/TWqSDGlcTXnWXUZE3Pq7U9c1GsdNQtkuzTcw+OLlOvhS4FUxohvX9qdQi4bOfXOnMo/dRREmofMiN+qh3j43amN94jvp5Gj9YYXWpG6ZvRWs3MaSfWiM5c9Q6Yi/x95zSHwCJ89jTVuPKyE2Q0gNvSWs3MaVfG/x/RdB9C56E7QVa6D1j1lBuNi22Et6O1WpjTLljjvx+NYEloJ0icSRaV9Gzbuymtl+7BXPWOCRTJQx4sV3qP+Nrlekbu82ptUrKX+hhqoYGFbJ63Pzc0E8qurtvQei3Ohp0YBQYWa/66ihAr0kjOq/WSK8589UGuWSXofTtB7x/aSAYM+ya0XtKd9Qc7kQtjrj7w2jySQV4ixHxova/WJhnVbvblg9GLm7x6ijSNtN89S9N+Mv47tKStvSTxN2TdHLGvobXduUy8eX4HEPSgobGSZP91FckNZ3HDObUmvr4S0qmqSuhCh8TXrhsK4PpaE19ficZz1EuM7GobIdbzpWYe9Ga0XvMYWHdwQOzl04v2QqGbwLnn1HLlRkbq02ttwvz1FSgdetIsUOjMKvJvl6PNNw4GqGbmqxti6lNqvaR7tXB6R6HfQ3b8IMEb46FXxlZJ31EyjXCMz2hsvi8x6NNqveQZuLyolhKJpxVBSj0d9W6Uz3pK4nftBn/j0d2VW47Wd8b/BgAA//8LxnrP1G9IDQAAAABJRU5ErkJggg==)"
      ],
      "metadata": {
        "id": "AH5NAsvt_XYe"
      }
    },
    {
      "cell_type": "code",
      "source": [
        "# inherit from base class Layer\n",
        "class FCLayer(Layer):\n",
        "    # input_size = number of input neurons\n",
        "    # output_size = number of output neurons\n",
        "    def __init__(self, input_size, output_size):\n",
        "        self.weights = np.random.rand(input_size, output_size) - 0.5\n",
        "        self.bias = np.random.rand(1, output_size) - 0.5\n",
        "\n",
        "    # returns output for a given input\n",
        "    def forward_propagation(self, input_data):\n",
        "        self.input = input_data\n",
        "        self.output = np.dot(self.input, self.weights) + self.bias\n",
        "        return self.output\n",
        "\n",
        "    # computes dE/dW, dE/dB for a given output_error=dE/dY. Returns input_error=dE/dX.\n",
        "    def backward_propagation(self, output_error, learning_rate):\n",
        "        input_error = np.dot(output_error, self.weights.T)\n",
        "        weights_error = np.dot(self.input.T, output_error)\n",
        "        # dBias = output_error\n",
        "\n",
        "        # update parameters\n",
        "        self.weights -= learning_rate * weights_error\n",
        "        self.bias -= learning_rate * output_error\n",
        "        return input_error"
      ],
      "metadata": {
        "id": "Grd8roOXjqZm"
      },
      "execution_count": null,
      "outputs": []
    },
    {
      "cell_type": "markdown",
      "source": [
        "## Activation Layer"
      ],
      "metadata": {
        "id": "hxtnId4g_6W0"
      }
    },
    {
      "cell_type": "code",
      "source": [
        "# inherit from base class Layer\n",
        "class ActivationLayer(Layer):\n",
        "    def __init__(self, activation, activation_prime):\n",
        "        self.activation = activation\n",
        "        self.activation_prime = activation_prime\n",
        "\n",
        "    # returns the activated input\n",
        "    def forward_propagation(self, input_data):\n",
        "        self.input = input_data\n",
        "        self.output = self.activation(self.input)\n",
        "        return self.output\n",
        "\n",
        "    # Returns input_error=dE/dX for a given output_error=dE/dY.\n",
        "    # learning_rate is not used because there is no \"learnable\" parameters.\n",
        "    def backward_propagation(self, output_error, learning_rate):\n",
        "        return self.activation_prime(self.input) * output_error"
      ],
      "metadata": {
        "id": "LEt6Amz6j0RY"
      },
      "execution_count": null,
      "outputs": []
    },
    {
      "cell_type": "code",
      "source": [
        "def sigmoid(z):\n",
        "    \"\"\"The sigmoid function.\"\"\"\n",
        "    return 1.0/(1.0+np.exp(-z))\n",
        "\n",
        "def sigmoid_prime(z):\n",
        "    \"\"\"Derivative of the sigmoid function.\"\"\"\n",
        "    return sigmoid(z)*(1-sigmoid(z))"
      ],
      "metadata": {
        "id": "Lxg9rfbjj6yK"
      },
      "execution_count": null,
      "outputs": []
    },
    {
      "cell_type": "markdown",
      "source": [
        "## Loss Function\n",
        "\n",
        "Mean-Squared Error is used as the Cost function."
      ],
      "metadata": {
        "id": "wxK-R8qtAGiX"
      }
    },
    {
      "cell_type": "markdown",
      "source": [
        "![MSE.png](data:image/png;base64,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)"
      ],
      "metadata": {
        "id": "2WPEzLvjAaOg"
      }
    },
    {
      "cell_type": "code",
      "source": [
        "# loss function and its derivative\n",
        "def mse(y_true, y_pred):\n",
        "    return np.mean(np.power(y_true-y_pred, 2))\n",
        "\n",
        "def mse_prime(y_true, y_pred):\n",
        "    return 2*(y_pred-y_true)/y_true.size"
      ],
      "metadata": {
        "id": "BR-gxXuCkFj6"
      },
      "execution_count": null,
      "outputs": []
    },
    {
      "cell_type": "markdown",
      "source": [
        "## Network Class"
      ],
      "metadata": {
        "id": "46u3dixcAhW4"
      }
    },
    {
      "cell_type": "code",
      "source": [
        "class Network:\n",
        "    def __init__(self):\n",
        "        self.layers = []\n",
        "        self.loss = None\n",
        "        self.loss_prime = None\n",
        "\n",
        "    # add layer to network\n",
        "    def add(self, layer):\n",
        "        self.layers.append(layer)\n",
        "\n",
        "    # set loss to use\n",
        "    def use(self, loss, loss_prime):\n",
        "        self.loss = loss\n",
        "        self.loss_prime = loss_prime\n",
        "\n",
        "    # predict output for given input\n",
        "    def predict(self, input_data):\n",
        "        # sample dimension first\n",
        "        samples = len(input_data)\n",
        "        result = []\n",
        "\n",
        "        # run network over all samples\n",
        "        for i in range(samples):\n",
        "            # forward propagation\n",
        "            output = input_data[i]\n",
        "            for layer in self.layers:\n",
        "                output = layer.forward_propagation(output)\n",
        "            result.append(output)\n",
        "\n",
        "        return result\n",
        "\n",
        "    # train the network\n",
        "    def fit(self, x_train, y_train, epochs, learning_rate):\n",
        "        # sample dimension first\n",
        "        samples = len(x_train)\n",
        "\n",
        "        # training loop\n",
        "        for i in range(epochs):\n",
        "            err = 0\n",
        "            for j in range(samples):\n",
        "                # forward propagation\n",
        "                output = x_train[j]\n",
        "                for layer in self.layers:\n",
        "                    output = layer.forward_propagation(output)\n",
        "\n",
        "                # compute loss (for display purpose only)\n",
        "                err += self.loss(y_train[j], output)\n",
        "\n",
        "                # backward propagation\n",
        "                error = self.loss_prime(y_train[j], output)\n",
        "                for layer in reversed(self.layers):\n",
        "                    error = layer.backward_propagation(error, learning_rate)\n",
        "\n",
        "            # calculate average error on all samples\n",
        "            err /= samples\n",
        "            print('epoch %d/%d   error=%f' % (i+1, epochs, err))"
      ],
      "metadata": {
        "id": "1WEubzh1kJZo"
      },
      "execution_count": null,
      "outputs": []
    },
    {
      "cell_type": "markdown",
      "source": [
        "### Normalising the Data"
      ],
      "metadata": {
        "id": "U1VKiauzAk0-"
      }
    },
    {
      "cell_type": "code",
      "source": [
        "x_train, mu, sigma = normalise(X_train)\n",
        "x_test = (X_test-mu)/sigma"
      ],
      "metadata": {
        "id": "8H3bPPvpkc8Y"
      },
      "execution_count": null,
      "outputs": []
    },
    {
      "cell_type": "markdown",
      "source": [
        "## Creating the Neural Network\n",
        "\n",
        "The neural network will have 2 Hidden layers with 10 and 5 neurons each, one Input layer and one Output layer."
      ],
      "metadata": {
        "id": "H8BQymqJAo_C"
      }
    },
    {
      "cell_type": "code",
      "source": [
        "net = Network()\n",
        "net.add(FCLayer(X_train.shape[1], 10))\n",
        "net.add(ActivationLayer(sigmoid, sigmoid_prime))\n",
        "net.add(FCLayer(10, 5))\n",
        "net.add(ActivationLayer(sigmoid, sigmoid_prime))\n",
        "net.add(FCLayer(5, 1))"
      ],
      "metadata": {
        "id": "PIn2bO8zkpkx"
      },
      "execution_count": null,
      "outputs": []
    },
    {
      "cell_type": "markdown",
      "source": [
        "## Fitting the Training Data\n",
        "\n",
        "The output is normalised to prevent the overflowing error."
      ],
      "metadata": {
        "id": "5l3FvN0qA9zo"
      }
    },
    {
      "cell_type": "code",
      "source": [
        "y_train, mu_y, sigma_y = normalise(Y_train)\n",
        "x_train = x_train.reshape(X_train.shape[0], 1, X_train.shape[1])\n",
        "net.use(mse, mse_prime)\n",
        "net.fit(x_train, y_train, epochs=50, learning_rate=0.1)"
      ],
      "metadata": {
        "colab": {
          "base_uri": "https://localhost:8080/"
        },
        "id": "WYt86AJDlMJh",
        "outputId": "1e1e83a3-d8e2-4cdb-e8e7-56170db5755f"
      },
      "execution_count": null,
      "outputs": [
        {
          "output_type": "stream",
          "name": "stdout",
          "text": [
            "epoch 1/50   error=0.184021\n",
            "epoch 2/50   error=0.008257\n",
            "epoch 3/50   error=0.004485\n",
            "epoch 4/50   error=0.003508\n",
            "epoch 5/50   error=0.002798\n",
            "epoch 6/50   error=0.002083\n",
            "epoch 7/50   error=0.001568\n",
            "epoch 8/50   error=0.000819\n",
            "epoch 9/50   error=0.000706\n",
            "epoch 10/50   error=0.000636\n",
            "epoch 11/50   error=0.000585\n",
            "epoch 12/50   error=0.000545\n",
            "epoch 13/50   error=0.000512\n",
            "epoch 14/50   error=0.000485\n",
            "epoch 15/50   error=0.000462\n",
            "epoch 16/50   error=0.000441\n",
            "epoch 17/50   error=0.000423\n",
            "epoch 18/50   error=0.000407\n",
            "epoch 19/50   error=0.000392\n",
            "epoch 20/50   error=0.000379\n",
            "epoch 21/50   error=0.000366\n",
            "epoch 22/50   error=0.000355\n",
            "epoch 23/50   error=0.000344\n",
            "epoch 24/50   error=0.000333\n",
            "epoch 25/50   error=0.000324\n",
            "epoch 26/50   error=0.000314\n",
            "epoch 27/50   error=0.000305\n",
            "epoch 28/50   error=0.000296\n",
            "epoch 29/50   error=0.000288\n",
            "epoch 30/50   error=0.000280\n",
            "epoch 31/50   error=0.000272\n",
            "epoch 32/50   error=0.000266\n",
            "epoch 33/50   error=0.000259\n",
            "epoch 34/50   error=0.000254\n",
            "epoch 35/50   error=0.000249\n",
            "epoch 36/50   error=0.000244\n",
            "epoch 37/50   error=0.000240\n",
            "epoch 38/50   error=0.000236\n",
            "epoch 39/50   error=0.000232\n",
            "epoch 40/50   error=0.000229\n",
            "epoch 41/50   error=0.000226\n",
            "epoch 42/50   error=0.000223\n",
            "epoch 43/50   error=0.000220\n",
            "epoch 44/50   error=0.000217\n",
            "epoch 45/50   error=0.000214\n",
            "epoch 46/50   error=0.000212\n",
            "epoch 47/50   error=0.000210\n",
            "epoch 48/50   error=0.000208\n",
            "epoch 49/50   error=0.000206\n",
            "epoch 50/50   error=0.000204\n"
          ]
        }
      ]
    },
    {
      "cell_type": "markdown",
      "source": [
        "## Predicting the Testing Data"
      ],
      "metadata": {
        "id": "xwKfgF5wBCYw"
      }
    },
    {
      "cell_type": "code",
      "source": [
        "out = net.predict(x_test)\n",
        "out = np.array(out)\n",
        "out = out.reshape(out.shape[0], 1)"
      ],
      "metadata": {
        "id": "NEpXA7TaYWF-"
      },
      "execution_count": null,
      "outputs": []
    },
    {
      "cell_type": "markdown",
      "source": [
        "De-normalising the output."
      ],
      "metadata": {
        "id": "ft3xo0nfBHzp"
      }
    },
    {
      "cell_type": "code",
      "source": [
        "out = (out*sigma_y) + mu_y"
      ],
      "metadata": {
        "id": "8DihCahlYk_l"
      },
      "execution_count": null,
      "outputs": []
    },
    {
      "cell_type": "markdown",
      "source": [
        "## Accuracy of the Neural Network Model"
      ],
      "metadata": {
        "id": "A0lyIbLYBSRF"
      }
    },
    {
      "cell_type": "code",
      "source": [
        "from sklearn.metrics import r2_score\n",
        "\n",
        "accuracy = r2_score(Y_test, out)\n",
        "print(f\"Testing accuracy of the model is {accuracy*100}%\")"
      ],
      "metadata": {
        "colab": {
          "base_uri": "https://localhost:8080/"
        },
        "id": "zTgdf3yzYgre",
        "outputId": "9ab82b22-0e00-44cd-ca9f-73713462e8cd"
      },
      "execution_count": null,
      "outputs": [
        {
          "output_type": "stream",
          "name": "stdout",
          "text": [
            "Testing accuracy of the model is 99.99442681696597%\n"
          ]
        }
      ]
    }
  ]
}