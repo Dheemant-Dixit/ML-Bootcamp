{
  "cells": [
    {
      "cell_type": "markdown",
      "metadata": {
        "id": "view-in-github",
        "colab_type": "text"
      },
      "source": [
        "<a href=\"https://colab.research.google.com/github/Dheemant-Dixit/WoC-ML-Bootcamp/blob/main/LogisticRegression.ipynb\" target=\"_parent\"><img src=\"https://colab.research.google.com/assets/colab-badge.svg\" alt=\"Open In Colab\"/></a>"
      ]
    },
    {
      "cell_type": "markdown",
      "source": [
        "#**Logistic Regression**\n",
        "*From scratch using Python*"
      ],
      "metadata": {
        "id": "u5veAA5HNcFb"
      }
    },
    {
      "cell_type": "markdown",
      "source": [
        "Logistic Regression is used for predicting the categorical dependent variable using a given set of independent variables.\n",
        "\n",
        "Logistic regression predicts the output of a categorical dependent variable."
      ],
      "metadata": {
        "id": "Ay1dIpVFN4IS"
      }
    },
    {
      "cell_type": "markdown",
      "source": [
        "### Importing necessary libraries:\n",
        "Numpy, pandas and matplotlib."
      ],
      "metadata": {
        "id": "yNmmlPgkODL2"
      }
    },
    {
      "cell_type": "code",
      "execution_count": 20,
      "metadata": {
        "id": "196OS4GJpttn"
      },
      "outputs": [],
      "source": [
        "import numpy as np\n",
        "import pandas as pd\n",
        "import matplotlib.pyplot as plt\n",
        "from pandas.plotting import scatter_matrix"
      ]
    },
    {
      "cell_type": "markdown",
      "source": [
        "### Using Google Drive Mount to access dataset files."
      ],
      "metadata": {
        "id": "m1mtqD22Ogbo"
      }
    },
    {
      "cell_type": "code",
      "execution_count": 21,
      "metadata": {
        "colab": {
          "base_uri": "https://localhost:8080/"
        },
        "id": "Ln8PjmpRqHQg",
        "outputId": "e40c7c37-56ea-45f2-860b-9071856565e9"
      },
      "outputs": [
        {
          "output_type": "stream",
          "name": "stdout",
          "text": [
            "Drive already mounted at /content/drive; to attempt to forcibly remount, call drive.mount(\"/content/drive\", force_remount=True).\n"
          ]
        }
      ],
      "source": [
        "from google.colab import drive\n",
        "drive.mount('/content/drive')"
      ]
    },
    {
      "cell_type": "markdown",
      "source": [
        "## Loading Data Frame\n",
        "\n",
        "The famous library 'pandas' is used to load the data frame from the csv files provided."
      ],
      "metadata": {
        "id": "wKFmx4EZOl0B"
      }
    },
    {
      "cell_type": "markdown",
      "source": [
        "Data Frame for training dataset."
      ],
      "metadata": {
        "id": "RHZHnGl3Oq5_"
      }
    },
    {
      "cell_type": "code",
      "execution_count": 22,
      "metadata": {
        "colab": {
          "base_uri": "https://localhost:8080/",
          "height": 235
        },
        "id": "moM63XFvqaOS",
        "outputId": "9ab9a466-b641-4f2a-bf7a-dc0af000d7b3"
      },
      "outputs": [
        {
          "output_type": "execute_result",
          "data": {
            "text/plain": [
              "   0    1    ...  783  784\n",
              "0   23    0  ...    0    0\n",
              "1    7    0  ...    0    0\n",
              "2   16    0  ...    0    0\n",
              "3   15    0  ...    0    0\n",
              "4   23    0  ...    0    0\n",
              "\n",
              "[5 rows x 785 columns]"
            ],
            "text/html": [
              "\n",
              "  <div id=\"df-52d77ab2-6726-4991-9d80-09fcbf6482b4\">\n",
              "    <div class=\"colab-df-container\">\n",
              "      <div>\n",
              "<style scoped>\n",
              "    .dataframe tbody tr th:only-of-type {\n",
              "        vertical-align: middle;\n",
              "    }\n",
              "\n",
              "    .dataframe tbody tr th {\n",
              "        vertical-align: top;\n",
              "    }\n",
              "\n",
              "    .dataframe thead th {\n",
              "        text-align: right;\n",
              "    }\n",
              "</style>\n",
              "<table border=\"1\" class=\"dataframe\">\n",
              "  <thead>\n",
              "    <tr style=\"text-align: right;\">\n",
              "      <th></th>\n",
              "      <th>0</th>\n",
              "      <th>1</th>\n",
              "      <th>...</th>\n",
              "      <th>783</th>\n",
              "      <th>784</th>\n",
              "    </tr>\n",
              "  </thead>\n",
              "  <tbody>\n",
              "    <tr>\n",
              "      <th>0</th>\n",
              "      <td>23</td>\n",
              "      <td>0</td>\n",
              "      <td>...</td>\n",
              "      <td>0</td>\n",
              "      <td>0</td>\n",
              "    </tr>\n",
              "    <tr>\n",
              "      <th>1</th>\n",
              "      <td>7</td>\n",
              "      <td>0</td>\n",
              "      <td>...</td>\n",
              "      <td>0</td>\n",
              "      <td>0</td>\n",
              "    </tr>\n",
              "    <tr>\n",
              "      <th>2</th>\n",
              "      <td>16</td>\n",
              "      <td>0</td>\n",
              "      <td>...</td>\n",
              "      <td>0</td>\n",
              "      <td>0</td>\n",
              "    </tr>\n",
              "    <tr>\n",
              "      <th>3</th>\n",
              "      <td>15</td>\n",
              "      <td>0</td>\n",
              "      <td>...</td>\n",
              "      <td>0</td>\n",
              "      <td>0</td>\n",
              "    </tr>\n",
              "    <tr>\n",
              "      <th>4</th>\n",
              "      <td>23</td>\n",
              "      <td>0</td>\n",
              "      <td>...</td>\n",
              "      <td>0</td>\n",
              "      <td>0</td>\n",
              "    </tr>\n",
              "  </tbody>\n",
              "</table>\n",
              "<p>5 rows × 785 columns</p>\n",
              "</div>\n",
              "      <button class=\"colab-df-convert\" onclick=\"convertToInteractive('df-52d77ab2-6726-4991-9d80-09fcbf6482b4')\"\n",
              "              title=\"Convert this dataframe to an interactive table.\"\n",
              "              style=\"display:none;\">\n",
              "        \n",
              "  <svg xmlns=\"http://www.w3.org/2000/svg\" height=\"24px\"viewBox=\"0 0 24 24\"\n",
              "       width=\"24px\">\n",
              "    <path d=\"M0 0h24v24H0V0z\" fill=\"none\"/>\n",
              "    <path d=\"M18.56 5.44l.94 2.06.94-2.06 2.06-.94-2.06-.94-.94-2.06-.94 2.06-2.06.94zm-11 1L8.5 8.5l.94-2.06 2.06-.94-2.06-.94L8.5 2.5l-.94 2.06-2.06.94zm10 10l.94 2.06.94-2.06 2.06-.94-2.06-.94-.94-2.06-.94 2.06-2.06.94z\"/><path d=\"M17.41 7.96l-1.37-1.37c-.4-.4-.92-.59-1.43-.59-.52 0-1.04.2-1.43.59L10.3 9.45l-7.72 7.72c-.78.78-.78 2.05 0 2.83L4 21.41c.39.39.9.59 1.41.59.51 0 1.02-.2 1.41-.59l7.78-7.78 2.81-2.81c.8-.78.8-2.07 0-2.86zM5.41 20L4 18.59l7.72-7.72 1.47 1.35L5.41 20z\"/>\n",
              "  </svg>\n",
              "      </button>\n",
              "      \n",
              "  <style>\n",
              "    .colab-df-container {\n",
              "      display:flex;\n",
              "      flex-wrap:wrap;\n",
              "      gap: 12px;\n",
              "    }\n",
              "\n",
              "    .colab-df-convert {\n",
              "      background-color: #E8F0FE;\n",
              "      border: none;\n",
              "      border-radius: 50%;\n",
              "      cursor: pointer;\n",
              "      display: none;\n",
              "      fill: #1967D2;\n",
              "      height: 32px;\n",
              "      padding: 0 0 0 0;\n",
              "      width: 32px;\n",
              "    }\n",
              "\n",
              "    .colab-df-convert:hover {\n",
              "      background-color: #E2EBFA;\n",
              "      box-shadow: 0px 1px 2px rgba(60, 64, 67, 0.3), 0px 1px 3px 1px rgba(60, 64, 67, 0.15);\n",
              "      fill: #174EA6;\n",
              "    }\n",
              "\n",
              "    [theme=dark] .colab-df-convert {\n",
              "      background-color: #3B4455;\n",
              "      fill: #D2E3FC;\n",
              "    }\n",
              "\n",
              "    [theme=dark] .colab-df-convert:hover {\n",
              "      background-color: #434B5C;\n",
              "      box-shadow: 0px 1px 3px 1px rgba(0, 0, 0, 0.15);\n",
              "      filter: drop-shadow(0px 1px 2px rgba(0, 0, 0, 0.3));\n",
              "      fill: #FFFFFF;\n",
              "    }\n",
              "  </style>\n",
              "\n",
              "      <script>\n",
              "        const buttonEl =\n",
              "          document.querySelector('#df-52d77ab2-6726-4991-9d80-09fcbf6482b4 button.colab-df-convert');\n",
              "        buttonEl.style.display =\n",
              "          google.colab.kernel.accessAllowed ? 'block' : 'none';\n",
              "\n",
              "        async function convertToInteractive(key) {\n",
              "          const element = document.querySelector('#df-52d77ab2-6726-4991-9d80-09fcbf6482b4');\n",
              "          const dataTable =\n",
              "            await google.colab.kernel.invokeFunction('convertToInteractive',\n",
              "                                                     [key], {});\n",
              "          if (!dataTable) return;\n",
              "\n",
              "          const docLinkHtml = 'Like what you see? Visit the ' +\n",
              "            '<a target=\"_blank\" href=https://colab.research.google.com/notebooks/data_table.ipynb>data table notebook</a>'\n",
              "            + ' to learn more about interactive tables.';\n",
              "          element.innerHTML = '';\n",
              "          dataTable['output_type'] = 'display_data';\n",
              "          await google.colab.output.renderOutput(dataTable, element);\n",
              "          const docLink = document.createElement('div');\n",
              "          docLink.innerHTML = docLinkHtml;\n",
              "          element.appendChild(docLink);\n",
              "        }\n",
              "      </script>\n",
              "    </div>\n",
              "  </div>\n",
              "  "
            ]
          },
          "metadata": {},
          "execution_count": 22
        }
      ],
      "source": [
        "pd.options.display.max_columns = 5\n",
        "df_train = pd.read_csv('/content/drive/MyDrive/WoC-ML Bootcamp/Logistic Regression/emnist-letters-train.csv', header = None)\n",
        "df_train.head()"
      ]
    },
    {
      "cell_type": "markdown",
      "source": [
        "Data Frame for testing dataset."
      ],
      "metadata": {
        "id": "e5FB69a6OueL"
      }
    },
    {
      "cell_type": "code",
      "execution_count": 23,
      "metadata": {
        "colab": {
          "base_uri": "https://localhost:8080/",
          "height": 235
        },
        "id": "I3iTsaT-qjT-",
        "outputId": "46193160-fd77-4f9f-ffcf-1a85e54ccef0"
      },
      "outputs": [
        {
          "output_type": "execute_result",
          "data": {
            "text/plain": [
              "   0    1    ...  783  784\n",
              "0    1    0  ...    0    0\n",
              "1    1    0  ...    0    0\n",
              "2    1    0  ...    0    0\n",
              "3    1    0  ...    0    0\n",
              "4    1    0  ...    0    0\n",
              "\n",
              "[5 rows x 785 columns]"
            ],
            "text/html": [
              "\n",
              "  <div id=\"df-1568a598-9938-4bc2-9c0f-c74c3a9e85d8\">\n",
              "    <div class=\"colab-df-container\">\n",
              "      <div>\n",
              "<style scoped>\n",
              "    .dataframe tbody tr th:only-of-type {\n",
              "        vertical-align: middle;\n",
              "    }\n",
              "\n",
              "    .dataframe tbody tr th {\n",
              "        vertical-align: top;\n",
              "    }\n",
              "\n",
              "    .dataframe thead th {\n",
              "        text-align: right;\n",
              "    }\n",
              "</style>\n",
              "<table border=\"1\" class=\"dataframe\">\n",
              "  <thead>\n",
              "    <tr style=\"text-align: right;\">\n",
              "      <th></th>\n",
              "      <th>0</th>\n",
              "      <th>1</th>\n",
              "      <th>...</th>\n",
              "      <th>783</th>\n",
              "      <th>784</th>\n",
              "    </tr>\n",
              "  </thead>\n",
              "  <tbody>\n",
              "    <tr>\n",
              "      <th>0</th>\n",
              "      <td>1</td>\n",
              "      <td>0</td>\n",
              "      <td>...</td>\n",
              "      <td>0</td>\n",
              "      <td>0</td>\n",
              "    </tr>\n",
              "    <tr>\n",
              "      <th>1</th>\n",
              "      <td>1</td>\n",
              "      <td>0</td>\n",
              "      <td>...</td>\n",
              "      <td>0</td>\n",
              "      <td>0</td>\n",
              "    </tr>\n",
              "    <tr>\n",
              "      <th>2</th>\n",
              "      <td>1</td>\n",
              "      <td>0</td>\n",
              "      <td>...</td>\n",
              "      <td>0</td>\n",
              "      <td>0</td>\n",
              "    </tr>\n",
              "    <tr>\n",
              "      <th>3</th>\n",
              "      <td>1</td>\n",
              "      <td>0</td>\n",
              "      <td>...</td>\n",
              "      <td>0</td>\n",
              "      <td>0</td>\n",
              "    </tr>\n",
              "    <tr>\n",
              "      <th>4</th>\n",
              "      <td>1</td>\n",
              "      <td>0</td>\n",
              "      <td>...</td>\n",
              "      <td>0</td>\n",
              "      <td>0</td>\n",
              "    </tr>\n",
              "  </tbody>\n",
              "</table>\n",
              "<p>5 rows × 785 columns</p>\n",
              "</div>\n",
              "      <button class=\"colab-df-convert\" onclick=\"convertToInteractive('df-1568a598-9938-4bc2-9c0f-c74c3a9e85d8')\"\n",
              "              title=\"Convert this dataframe to an interactive table.\"\n",
              "              style=\"display:none;\">\n",
              "        \n",
              "  <svg xmlns=\"http://www.w3.org/2000/svg\" height=\"24px\"viewBox=\"0 0 24 24\"\n",
              "       width=\"24px\">\n",
              "    <path d=\"M0 0h24v24H0V0z\" fill=\"none\"/>\n",
              "    <path d=\"M18.56 5.44l.94 2.06.94-2.06 2.06-.94-2.06-.94-.94-2.06-.94 2.06-2.06.94zm-11 1L8.5 8.5l.94-2.06 2.06-.94-2.06-.94L8.5 2.5l-.94 2.06-2.06.94zm10 10l.94 2.06.94-2.06 2.06-.94-2.06-.94-.94-2.06-.94 2.06-2.06.94z\"/><path d=\"M17.41 7.96l-1.37-1.37c-.4-.4-.92-.59-1.43-.59-.52 0-1.04.2-1.43.59L10.3 9.45l-7.72 7.72c-.78.78-.78 2.05 0 2.83L4 21.41c.39.39.9.59 1.41.59.51 0 1.02-.2 1.41-.59l7.78-7.78 2.81-2.81c.8-.78.8-2.07 0-2.86zM5.41 20L4 18.59l7.72-7.72 1.47 1.35L5.41 20z\"/>\n",
              "  </svg>\n",
              "      </button>\n",
              "      \n",
              "  <style>\n",
              "    .colab-df-container {\n",
              "      display:flex;\n",
              "      flex-wrap:wrap;\n",
              "      gap: 12px;\n",
              "    }\n",
              "\n",
              "    .colab-df-convert {\n",
              "      background-color: #E8F0FE;\n",
              "      border: none;\n",
              "      border-radius: 50%;\n",
              "      cursor: pointer;\n",
              "      display: none;\n",
              "      fill: #1967D2;\n",
              "      height: 32px;\n",
              "      padding: 0 0 0 0;\n",
              "      width: 32px;\n",
              "    }\n",
              "\n",
              "    .colab-df-convert:hover {\n",
              "      background-color: #E2EBFA;\n",
              "      box-shadow: 0px 1px 2px rgba(60, 64, 67, 0.3), 0px 1px 3px 1px rgba(60, 64, 67, 0.15);\n",
              "      fill: #174EA6;\n",
              "    }\n",
              "\n",
              "    [theme=dark] .colab-df-convert {\n",
              "      background-color: #3B4455;\n",
              "      fill: #D2E3FC;\n",
              "    }\n",
              "\n",
              "    [theme=dark] .colab-df-convert:hover {\n",
              "      background-color: #434B5C;\n",
              "      box-shadow: 0px 1px 3px 1px rgba(0, 0, 0, 0.15);\n",
              "      filter: drop-shadow(0px 1px 2px rgba(0, 0, 0, 0.3));\n",
              "      fill: #FFFFFF;\n",
              "    }\n",
              "  </style>\n",
              "\n",
              "      <script>\n",
              "        const buttonEl =\n",
              "          document.querySelector('#df-1568a598-9938-4bc2-9c0f-c74c3a9e85d8 button.colab-df-convert');\n",
              "        buttonEl.style.display =\n",
              "          google.colab.kernel.accessAllowed ? 'block' : 'none';\n",
              "\n",
              "        async function convertToInteractive(key) {\n",
              "          const element = document.querySelector('#df-1568a598-9938-4bc2-9c0f-c74c3a9e85d8');\n",
              "          const dataTable =\n",
              "            await google.colab.kernel.invokeFunction('convertToInteractive',\n",
              "                                                     [key], {});\n",
              "          if (!dataTable) return;\n",
              "\n",
              "          const docLinkHtml = 'Like what you see? Visit the ' +\n",
              "            '<a target=\"_blank\" href=https://colab.research.google.com/notebooks/data_table.ipynb>data table notebook</a>'\n",
              "            + ' to learn more about interactive tables.';\n",
              "          element.innerHTML = '';\n",
              "          dataTable['output_type'] = 'display_data';\n",
              "          await google.colab.output.renderOutput(dataTable, element);\n",
              "          const docLink = document.createElement('div');\n",
              "          docLink.innerHTML = docLinkHtml;\n",
              "          element.appendChild(docLink);\n",
              "        }\n",
              "      </script>\n",
              "    </div>\n",
              "  </div>\n",
              "  "
            ]
          },
          "metadata": {},
          "execution_count": 23
        }
      ],
      "source": [
        "df_test = pd.read_csv('/content/drive/MyDrive/WoC-ML Bootcamp/Logistic Regression/emnist-letters-test.csv', header = None)\n",
        "df_test.head()"
      ]
    },
    {
      "cell_type": "markdown",
      "source": [
        "An array of alphabets with 'A' at index 0 and 'Z' at index 25 to better understand which alphabet is being shown and predicted."
      ],
      "metadata": {
        "id": "PoB30p6nQjvW"
      }
    },
    {
      "cell_type": "code",
      "execution_count": 24,
      "metadata": {
        "id": "B5aVcLIs1uEC"
      },
      "outputs": [],
      "source": [
        "alphabets=np.array(['A','B','C','D','E','F','G','H','I','J','K','L','M','N','O','P','Q','R','S','T','U','V','W','X','Y','Z'])"
      ]
    },
    {
      "cell_type": "markdown",
      "source": [
        "## Visualising the data\n",
        "We'll map the pixel brightness with the help of matplotlib and create the image of the alphabets on a graph."
      ],
      "metadata": {
        "id": "wfiogZLORCxf"
      }
    },
    {
      "cell_type": "code",
      "execution_count": 25,
      "metadata": {
        "colab": {
          "base_uri": "https://localhost:8080/",
          "height": 265
        },
        "id": "aUAjFpUXrYsb",
        "outputId": "ac01a8a2-cc5a-461f-fcd1-98d0f1bca2da"
      },
      "outputs": [
        {
          "output_type": "display_data",
          "data": {
            "text/plain": [
              "<Figure size 432x288 with 1 Axes>"
            ],
            "image/png": "[encoded data removed]"
          },
          "metadata": {
            "needs_background": "light"
          }
        }
      ],
      "source": [
        "n=df_train.shape[1]\n",
        "pixels=(df_train.iloc[1:2,1:n]).to_numpy()\n",
        "pixels = pixels.reshape((28, 28))\n",
        "pixels = pixels.T\n",
        "plt.imshow(pixels, cmap='gray')\n",
        "plt.show()"
      ]
    },
    {
      "cell_type": "markdown",
      "source": [
        "## Converting the Data Frame to NumPy Arrays\n",
        "\n",
        "Using the function `.to_numpy()` to conver the Data Frame to numpy array and then slicing the array to separate features from the label.\n",
        "\n",
        "`X_train` --> Array with all features of training dataset.\n",
        "\n",
        "`Y_train` --> Array with all labels of training dataset.\n",
        "\n",
        "`X_test` --> Array with all features of testing dataset.\n",
        "\n",
        "`Y_test` --> Array with all labels of testing dataset."
      ],
      "metadata": {
        "id": "3YCGZEcePQIb"
      }
    },
    {
      "cell_type": "code",
      "execution_count": 26,
      "metadata": {
        "id": "nboAit_q0soT"
      },
      "outputs": [],
      "source": [
        "X_train = df_train.to_numpy()\n",
        "Y_train = X_train[:, 0]\n",
        "Y_train = Y_train.reshape(Y_train.shape[0],1)\n",
        "X_train = X_train[:, 1:X_train.shape[1]]"
      ]
    },
    {
      "cell_type": "code",
      "execution_count": 27,
      "metadata": {
        "id": "KWmsFZ-q098r"
      },
      "outputs": [],
      "source": [
        "X_test = df_test.to_numpy()\n",
        "Y_test = X_test[:, 0]\n",
        "Y_test = Y_test.reshape(Y_test.shape[0],1)\n",
        "X_test = X_test[:, 1:X_test.shape[1]]"
      ]
    },
    {
      "cell_type": "markdown",
      "source": [
        "Defining a function `plot` which will be used to map the brightness of the pixels onto a graph thus showing the alphabet."
      ],
      "metadata": {
        "id": "ghPxILGeUAHh"
      }
    },
    {
      "cell_type": "code",
      "execution_count": 28,
      "metadata": {
        "id": "lL4Ir0vP4Exc"
      },
      "outputs": [],
      "source": [
        "def plot(X):\n",
        "    pixels = X.reshape((28, 28))\n",
        "    pixels = pixels.T\n",
        "    plt.imshow(pixels, cmap='gray')\n",
        "    plt.show()"
      ]
    },
    {
      "cell_type": "code",
      "execution_count": 29,
      "metadata": {
        "colab": {
          "base_uri": "https://localhost:8080/",
          "height": 282
        },
        "id": "8uL71D3y2ag5",
        "outputId": "cc7f6ff0-1d3d-4369-a453-813991a9aa3c"
      },
      "outputs": [
        {
          "output_type": "display_data",
          "data": {
            "text/plain": [
              "<Figure size 432x288 with 1 Axes>"
            ],
            "image/png": "[encoded data removed]"
          },
          "metadata": {
            "needs_background": "light"
          }
        },
        {
          "output_type": "stream",
          "name": "stdout",
          "text": [
            "This is G\n"
          ]
        }
      ],
      "source": [
        "n=X_train.shape[1]\n",
        "a = 1\n",
        "pixels= X_train[a:a+1, :]\n",
        "plot(pixels)\n",
        "print('This is', alphabets[Y_train[a]-1][0])"
      ]
    },
    {
      "cell_type": "markdown",
      "source": [
        "No. of unique classes in the training dataset."
      ],
      "metadata": {
        "id": "FI-HDGYNUQG_"
      }
    },
    {
      "cell_type": "code",
      "execution_count": 30,
      "metadata": {
        "colab": {
          "base_uri": "https://localhost:8080/"
        },
        "id": "AF85es5OR5An",
        "outputId": "891f7222-25ab-43af-9d22-9b5eecce1c98"
      },
      "outputs": [
        {
          "output_type": "stream",
          "name": "stdout",
          "text": [
            "[ 1  2  3  4  5  6  7  8  9 10 11 12 13 14 15 16 17 18 19 20 21 22 23 24\n",
            " 25 26]\n"
          ]
        }
      ],
      "source": [
        "print(np.unique(Y_train))"
      ]
    },
    {
      "cell_type": "markdown",
      "source": [
        "## Normalising the Data:\n",
        "The maximum pixel brightness is 255 and the minimum us 0. So we'll divide the whole array by 255 to get all the entries between 0 and 1."
      ],
      "metadata": {
        "id": "qTFuqfdJVE3t"
      }
    },
    {
      "cell_type": "code",
      "execution_count": 31,
      "metadata": {
        "id": "munTuJeaPC3Q"
      },
      "outputs": [],
      "source": [
        "def normalise(X):\n",
        "    result = X/255\n",
        "    return result"
      ]
    },
    {
      "cell_type": "markdown",
      "source": [
        "## Sigmoid Function:"
      ],
      "metadata": {
        "id": "sAssQNBzXWXe"
      }
    },
    {
      "cell_type": "markdown",
      "source": [
        "![image.png](data:image/png;base64,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)"
      ],
      "metadata": {
        "id": "kHqYZYGGXTyS"
      }
    },
    {
      "cell_type": "code",
      "execution_count": 32,
      "metadata": {
        "id": "ZP7bwYvMtA_d"
      },
      "outputs": [],
      "source": [
        "def sigmoid(X):\n",
        "    result = 1/(1+np.exp(-X))\n",
        "    return result"
      ]
    },
    {
      "cell_type": "markdown",
      "source": [
        "## Cost Function:\n",
        "Here, `m` is the number of training examples, `y` is the label given and `h(x)` is the label predicted by the model."
      ],
      "metadata": {
        "id": "QtXmVcgCmvhL"
      }
    },
    {
      "cell_type": "markdown",
      "source": [
        "![image.png](data:image/png;base64,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)"
      ],
      "metadata": {
        "id": "v_7G_HdBmtVe"
      }
    },
    {
      "cell_type": "code",
      "execution_count": 33,
      "metadata": {
        "id": "SXJfePs7tRLN"
      },
      "outputs": [],
      "source": [
        "def cost_function(X, Y, theta):\n",
        "    m = Y.shape[0]                      # No. of training examples\n",
        "    Y_pred = sigmoid(np.dot(X, theta.T))\n",
        "    result = (np.sum(-np.dot(Y.T, np.log(Y_pred + 10**(-7))) - np.dot((1-Y).T, np.log(1-Y_pred + 10**(-7))), axis = 1))\n",
        "    result = result.reshape(result.shape[0], 1)\n",
        "    return result"
      ]
    },
    {
      "cell_type": "markdown",
      "source": [
        "## Gradient Descent Function:"
      ],
      "metadata": {
        "id": "tbfB5iXMqtNQ"
      }
    },
    {
      "cell_type": "markdown",
      "source": [
        "![Hypothesis 02.png](data:image/png;base64,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)"
      ],
      "metadata": {
        "id": "5vcwEvhlqb6S"
      }
    },
    {
      "cell_type": "code",
      "execution_count": 34,
      "metadata": {
        "id": "kNJCISdpx30O"
      },
      "outputs": [],
      "source": [
        "def gradient_descent(X, Y, theta, learning_rate):\n",
        "    m = Y.shape[0]                      # No. of training examples\n",
        "    Y_pred = sigmoid(np.dot(X, theta.T))\n",
        "    grad = np.dot((Y_pred-Y).T, X)/m\n",
        "    theta -= learning_rate*grad\n",
        "    return theta"
      ]
    },
    {
      "cell_type": "markdown",
      "source": [
        "\n",
        "\n",
        "*   Initialising learning rate and number of iterations,\n",
        "*   Normalising the training feature array,\n",
        "*   Adding the bias term to the feature array,\n",
        "\n"
      ],
      "metadata": {
        "id": "bE_ZqSerq0H9"
      }
    },
    {
      "cell_type": "code",
      "execution_count": 35,
      "metadata": {
        "id": "OhM9TiBF5cFZ"
      },
      "outputs": [],
      "source": [
        "global theta\n",
        "learning_rate = 0.5\n",
        "no_of_iterations = 3000\n",
        "X_train_new = normalise(X_train)\n",
        "extra_column = np.ones((X_train_new.shape[0], 1))\n",
        "X_train_new = np.c_[extra_column, X_train_new]\n",
        "m = len(Y_train)                # No. of training examples"
      ]
    },
    {
      "cell_type": "markdown",
      "source": [
        "## One vs. All:\n",
        "Since there are more than two classes to classify from, the One vs. All strategy will be used for classification.\n",
        "\n",
        "In One vs. All, we take one class as the positive example and all the rest as negative examples, and then we repeat the process for all the unique classes.\n",
        "\n",
        "To predict, we find out the probability that the given test case belongs to a specific class, for all the classes and the prediction will be the class with the highest probability."
      ],
      "metadata": {
        "id": "9ChUvXOLsfY3"
      }
    },
    {
      "cell_type": "code",
      "execution_count": 36,
      "metadata": {
        "id": "ACrBjlmkBgWH"
      },
      "outputs": [],
      "source": [
        "Y_onevsall = np.empty((X_train.shape[0], 0))\n",
        "\n",
        "for i in np.unique(Y_train):\n",
        "    Y_class = np.where(Y_train==i, 1, 0)\n",
        "    Y_onevsall = np.concatenate((Y_onevsall, Y_class), axis=1)"
      ]
    },
    {
      "cell_type": "markdown",
      "source": [
        "Initialising `theta` to all zeroes."
      ],
      "metadata": {
        "id": "GeNAYji6ueSu"
      }
    },
    {
      "cell_type": "code",
      "execution_count": 37,
      "metadata": {
        "id": "8ML2AmoMYwYe"
      },
      "outputs": [],
      "source": [
        "cost_arr = np.empty((len(np.unique(Y_train)), 0))\n",
        "theta = np.zeros((Y_onevsall.shape[1], X_train_new.shape[1]))"
      ]
    },
    {
      "cell_type": "markdown",
      "source": [
        "## Training the Model:"
      ],
      "metadata": {
        "id": "vVnN9omFvK7_"
      }
    },
    {
      "cell_type": "code",
      "execution_count": 38,
      "metadata": {
        "id": "jAE2nobTc5QN"
      },
      "outputs": [],
      "source": [
        "for i in range(no_of_iterations):\n",
        "    cost_arr = np.concatenate((cost_arr, cost_function(X_train_new, Y_onevsall, theta)), axis = 1)\n",
        "    theta = gradient_descent(X_train_new, Y_onevsall, theta, learning_rate)"
      ]
    },
    {
      "cell_type": "markdown",
      "source": [
        "## Predict function:\n",
        "\n",
        "As the name suggests, it predicts the outcome for new cases."
      ],
      "metadata": {
        "id": "JeMuurAyvQmk"
      }
    },
    {
      "cell_type": "code",
      "execution_count": 39,
      "metadata": {
        "id": "jO_QdJkvD6UE"
      },
      "outputs": [],
      "source": [
        "def predict(X):\n",
        "    X = normalise(X)\n",
        "    extra_column = np.ones((X.shape[0], 1))\n",
        "    X = np.c_[extra_column, X]\n",
        "    result = np.dot(X, theta.T)\n",
        "    result = sigmoid(result)\n",
        "    return result"
      ]
    },
    {
      "cell_type": "markdown",
      "source": [
        "## Accuracy of the Model:"
      ],
      "metadata": {
        "id": "KLLDedJAwYuD"
      }
    },
    {
      "cell_type": "code",
      "source": [
        "pred = np.zeros((Y_train.shape[0], 1))\n",
        "score = 0\n",
        "eld = predict(X_train)\n",
        "for i in range(X_train.shape[0]):\n",
        "    el = eld[i, :]\n",
        "    ind = np.argmax(el)\n",
        "    if Y_train[i][0]==ind+1:\n",
        "        score+=1\n",
        "    \n",
        "print('The training accuracy of the model is', (score/X_train.shape[0])*100, '%')"
      ],
      "metadata": {
        "colab": {
          "base_uri": "https://localhost:8080/"
        },
        "id": "PocKag-bBqY9",
        "outputId": "e3ba4a6c-f6e3-4804-b168-27bf6d833632"
      },
      "execution_count": 40,
      "outputs": [
        {
          "output_type": "stream",
          "name": "stdout",
          "text": [
            "The training accuracy of the model is 71.5822072072072 %\n"
          ]
        }
      ]
    },
    {
      "cell_type": "code",
      "execution_count": 41,
      "metadata": {
        "colab": {
          "base_uri": "https://localhost:8080/"
        },
        "id": "CFNSwjSgb-p0",
        "outputId": "b0569739-9c23-441b-b284-522da3504037"
      },
      "outputs": [
        {
          "output_type": "stream",
          "name": "stdout",
          "text": [
            "The test accuracy of the model is 69.75675675675676 %\n"
          ]
        }
      ],
      "source": [
        "pred = np.zeros((Y_test.shape[0], 1))\n",
        "score = 0\n",
        "eld = predict(X_test)\n",
        "for i in range(X_test.shape[0]):\n",
        "    el = eld[i, :]\n",
        "    ind = np.argmax(el)\n",
        "    if Y_test[i][0]==ind+1:\n",
        "        score+=1\n",
        "    \n",
        "print('The test accuracy of the model is',(score/X_test.shape[0])*100, '%')"
      ]
    },
    {
      "cell_type": "code",
      "source": [
        "from sklearn.linear_model import LogisticRegression\n",
        "logreg = LogisticRegression()\n",
        "logreg.fit(normalise(X_train), Y_train)\n",
        "print('The accuracy of the testing dataset using sklear is', logreg.score(normalise(X_test), Y_test)*100, '%')"
      ],
      "metadata": {
        "colab": {
          "base_uri": "https://localhost:8080/"
        },
        "id": "HMHHGRkJJ0mb",
        "outputId": "df3bac96-287c-47b3-b217-b14b04f4eb27"
      },
      "execution_count": 44,
      "outputs": [
        {
          "output_type": "stream",
          "name": "stderr",
          "text": [
            "/usr/local/lib/python3.7/dist-packages/sklearn/utils/validation.py:993: DataConversionWarning: A column-vector y was passed when a 1d array was expected. Please change the shape of y to (n_samples, ), for example using ravel().\n",
            "  y = column_or_1d(y, warn=True)\n"
          ]
        },
        {
          "output_type": "stream",
          "name": "stdout",
          "text": [
            "The accuracy of the testing dataset using sklear is 70.71621621621622 %\n"
          ]
        },
        {
          "output_type": "stream",
          "name": "stderr",
          "text": [
            "/usr/local/lib/python3.7/dist-packages/sklearn/linear_model/_logistic.py:818: ConvergenceWarning: lbfgs failed to converge (status=1):\n",
            "STOP: TOTAL NO. of ITERATIONS REACHED LIMIT.\n",
            "\n",
            "Increase the number of iterations (max_iter) or scale the data as shown in:\n",
            "    https://scikit-learn.org/stable/modules/preprocessing.html\n",
            "Please also refer to the documentation for alternative solver options:\n",
            "    https://scikit-learn.org/stable/modules/linear_model.html#logistic-regression\n",
            "  extra_warning_msg=_LOGISTIC_SOLVER_CONVERGENCE_MSG,\n"
          ]
        }
      ]
    }
  ],
  "metadata": {
    "colab": {
      "collapsed_sections": [],
      "name": "LogisticRegression.ipynb",
      "provenance": [],
      "authorship_tag": "ABX9TyPZb/cSxups29wl2f38OTFu",
      "include_colab_link": true
    },
    "kernelspec": {
      "display_name": "Python 3",
      "name": "python3"
    },
    "language_info": {
      "name": "python"
    }
  },
  "nbformat": 4,
  "nbformat_minor": 0
}